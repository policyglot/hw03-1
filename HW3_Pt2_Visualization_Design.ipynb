{
 "cells": [
  {
   "cell_type": "markdown",
   "metadata": {},
   "source": [
    "# HW 3- Part 2\n",
    "## Design Your Own Visualization"
   ]
  },
  {
   "cell_type": "markdown",
   "metadata": {},
   "source": [
    "The first half of this assignment includes the code to generate the visualization with the data\n",
    "set of interest. The second half then assesses its efficacy in terms of five metrics:\n"
   ]
  },
  {
   "cell_type": "markdown",
   "metadata": {},
   "source": [
    "### Section 1: Generating the Visualization  "
   ]
  },
  {
   "cell_type": "markdown",
   "metadata": {},
   "source": [
    "The code used here draws on two major sources:\n",
    "Juan Shishido: \n",
    "https://github.com/juanshishido/okcupid\n",
    "University of Michigan Computational Social Science:\n",
    "https://github.com/UM-CSS/CSSLabs-NLP"
   ]
  },
  {
   "cell_type": "code",
   "execution_count": 37,
   "metadata": {},
   "outputs": [],
   "source": [
    "import numpy as np\n",
    "import pandas as pd\n",
    "import matplotlib as mpl\n",
    "import matplotlib.pyplot as plt\n",
    "import seaborn as sns\n",
    "import warnings\n",
    "warnings.filterwarnings('ignore')\n",
    "from tqdm import tqdm\n",
    "tqdm.pandas()\n",
    "from bs4 import BeautifulSoup"
   ]
  },
  {
   "cell_type": "code",
   "execution_count": 38,
   "metadata": {},
   "outputs": [],
   "source": [
    "from utils.nonnegative_matrix_factorization import nmf_labels, nmf_inspect\n",
    "from utils.splits import subset_df, group_pct\n",
    "from utils.text_representation import feature_vectors\n",
    "from utils.lexical_features import *\n",
    "%matplotlib inline"
   ]
  },
  {
   "cell_type": "code",
   "execution_count": 39,
   "metadata": {},
   "outputs": [],
   "source": [
    "from keras.models import Sequential\n",
    "from keras.layers import Embedding, Flatten, Dense, Activation, Dropout, SimpleRNN, LSTM, GRU\n",
    "\n",
    "#Data Setup\n",
    "from keras.utils import to_categorical\n",
    "from keras.preprocessing.sequence import pad_sequences\n",
    "from keras.preprocessing.text import Tokenizer"
   ]
  },
  {
   "cell_type": "code",
   "execution_count": 40,
   "metadata": {},
   "outputs": [],
   "source": [
    "#Data Initialization\n",
    "#This shows how the data would have been cleaned from the original set\n",
    "#However, it is too large to upload onto github\n",
    "#df = pd.read_csv('data/profiles.csv')\n",
    "#must_haves = ['body_type', 'height', 'education', 'ethnicity', 'sex', 'essay0']\n",
    "#df = df.dropna(subset= must_haves)\n",
    "#df= df[df['sex']==\"m\"]\n",
    "#df.to_csv('data/filtered_data.csv')"
   ]
  },
  {
   "cell_type": "code",
   "execution_count": 41,
   "metadata": {},
   "outputs": [],
   "source": [
    "df = pd.read_csv('data/filtered_data.csv')"
   ]
  },
  {
   "cell_type": "code",
   "execution_count": 42,
   "metadata": {},
   "outputs": [],
   "source": [
    "#Taken directly from \n",
    "#https://github.com/UM-CSS/CSSLabs-NLP/blob/master/1_Data_munging.ipynb\n",
    "def recode(text, dictionary, default=np.nan):\n",
    "    '''Function for recoding categories in a column based on exact matches'''\n",
    "    out = default\n",
    "    text = str(text)\n",
    "    \n",
    "    for x in dictionary.keys():\n",
    "        for y in dictionary[x]:\n",
    "            if y == text: #exact match\n",
    "                out = x\n",
    "                return out\n",
    "    return out\n",
    "\n",
    "def recode_fuzzy(text, dictionary, default=np.nan):\n",
    "    '''Function for recoding categories in a column based on partial matches'''\n",
    "    out = default\n",
    "    text = str(text)\n",
    "    \n",
    "    for x in dictionary.keys():\n",
    "        for y in dictionary[x]:\n",
    "            if y in text: #partial match\n",
    "                out = x\n",
    "                return out\n",
    "    return out"
   ]
  },
  {
   "cell_type": "code",
   "execution_count": 43,
   "metadata": {},
   "outputs": [],
   "source": [
    "ed_levels = {'High School or less': ['dropped out of high school', 'working on high school','graduated from high school', 'working on college/university', \n",
    "                    'two-year college', 'dropped out of college/university', \n",
    "                    'high school'], \n",
    "             'More than High School': ['graduated from college/university', \n",
    "                    'working on masters program', 'working on ph.d program', \n",
    "                    'college/university', 'working on law school', \n",
    "                    'dropped out of masters program', \n",
    "                    'dropped out of ph.d program', 'dropped out of law school', \n",
    "                    'dropped out of med school',\n",
    "                    'graduated from masters program',\n",
    "                    'graduated from ph.d program',                           \n",
    "                    'graduated from law school', \n",
    "                    'graduated from med school', 'masters program', \n",
    "                    'ph.d program', 'law school', 'med school']}\n",
    "\n",
    "#body type\n",
    "bodies = {'fit': ['fit', 'athletic', 'jacked'], \n",
    "          'not_fit': ['average', 'thin', 'skinny','curvey', 'a little extra', \n",
    "                      'full figured', 'overweight', 'rather not say', 'used up']\n",
    "         }\n"
   ]
  },
  {
   "cell_type": "code",
   "execution_count": 44,
   "metadata": {},
   "outputs": [],
   "source": [
    "df['edu'] = df.education.apply(recode, dictionary=ed_levels, \n",
    "                                            default='unknown')\n",
    "df['fit'] = df.body_type.apply(recode, dictionary=bodies, \n",
    "                                            default='unknown')"
   ]
  },
  {
   "cell_type": "code",
   "execution_count": 45,
   "metadata": {},
   "outputs": [],
   "source": [
    "# race/ethnicity for exact matching\n",
    "ethn = {'White': ['white', 'middle eastern', 'middle eastern, white'], \n",
    "        'Asian': ['asian', 'indian', 'asian, pacific islander'], \n",
    "        'Black': ['black']       }   \n",
    "\n",
    "# race/ethnicityfor fuzzy matching\n",
    "ethn2 = {'Latinx': ['latin'], 'multiple': [','], np.nan: ['nan']}"
   ]
  },
  {
   "cell_type": "code",
   "execution_count": 46,
   "metadata": {},
   "outputs": [],
   "source": [
    "def census_2010_ethnicity(t):\n",
    "    text = str(t)\n",
    "    e = recode(text, ethn, default='other')\n",
    "    if 'other' == e:\n",
    "        e = recode_fuzzy(text, ethn2, default='other')\n",
    "    return e\n",
    "\n",
    "df['race_ethnicity'] = df.ethnicity.apply(census_2010_ethnicity)\n"
   ]
  },
  {
   "cell_type": "code",
   "execution_count": 47,
   "metadata": {},
   "outputs": [],
   "source": [
    "def height_check(inches):\n",
    "    h = 'not_short'\n",
    "    if inches <= 69:\n",
    "        h = 'short'\n",
    "    return h\n",
    "\n",
    "df['height_group'] = df.height.apply(height_check)"
   ]
  },
  {
   "cell_type": "code",
   "execution_count": null,
   "metadata": {},
   "outputs": [],
   "source": []
  },
  {
   "cell_type": "code",
   "execution_count": 48,
   "metadata": {},
   "outputs": [],
   "source": [
    "# Some of the essays have just a link in the text. BeautifulSoup sees that and gets \n",
    "# the wrong idea. This line hides those warnings.\n",
    "warnings.filterwarnings(\"ignore\", category=UserWarning, module='bs4')\n",
    "def clean(text):\n",
    "    if pd.isnull(text):\n",
    "        t = np.nan\n",
    "    else:\n",
    "        t = BeautifulSoup(text, 'lxml').get_text()\n",
    "        t = t.lower()\n",
    "        t = t.replace('\\n','')\n",
    "\n",
    "        bad_words = ['http', 'www', '\\nnan']\n",
    "\n",
    "        for b in bad_words:\n",
    "            t = t.replace(b, '')\n",
    "    if t == '':\n",
    "        t = np.nan\n",
    "    \n",
    "    return t"
   ]
  },
  {
   "cell_type": "code",
   "execution_count": 49,
   "metadata": {},
   "outputs": [],
   "source": [
    "#Clearing out all HTML and unnecessary characters\n",
    "df['essay0'] =df['essay0'].apply(clean)\n",
    "#df['essay9'] =df['essay9'].apply(clean)"
   ]
  },
  {
   "cell_type": "code",
   "execution_count": 51,
   "metadata": {},
   "outputs": [],
   "source": [
    "df.to_csv('cleaned_profiles.csv')"
   ]
  },
  {
   "cell_type": "code",
   "execution_count": 11,
   "metadata": {},
   "outputs": [],
   "source": [
    "#The major part of the algorithm- can take some time\n",
    "specs = {'stop_words' : 'english', 'ngram_range' : (1, 3), 'min_df' : 0.005}\n",
    "counts, tfidf, vocab = feature_vectors(df.essay0, specs)"
   ]
  },
  {
   "cell_type": "code",
   "execution_count": 32,
   "metadata": {},
   "outputs": [
    {
     "name": "stdout",
     "output_type": "stream",
     "text": [
      "20\n",
      "Group 0:\n",
      " 've | look | heart | friend | social | old | said | women | profile | human | 'd | quiterelationship | right | 'll | need | feel | -- | bit | read | creative | interested | come | want | art | mind | 're | words | times | person | got | \n",
      "\n",
      "Group 1:\n",
      " | home | art | hi | explore | new | originally | work | years | york | los | angelesgo | lived | just moved | live | native | recently | grew | year | currently | lived san | recently moved | \n",
      "\n",
      "Group 2:\n",
      " 'm | 'm usually | working | awesome | 'm happy | 'm currently | 'm originally | guy 'm | hi | people 'ming | 'm good | hi 'm | 'd | life 'm | 'm passionate | geek | 'm laid | \n",
      "\n",
      "Group 3:\n",
      " music | wine | working | dancing | rock | video games | live | listening | snowboarding | home | tv | art | watching movies | shows | movie | really enjoy | eating | really | outdoor\n",
      "\n",
      "Group 4:\n",
      " | progress | hmm | say | lets | summarize | yes | ;) | self summary | wait | ok | profile | hate | write | dating | kinda | online | need | bit | awesome | right\n",
      "\n",
      "Group 5:\n",
      " think | like 'm | guy like | people  'd | like think | really like | feel like | play | n't like | really | feel | like people | things like | lot | watch | like going | movies | read | like fun | like meet | people like | fun | like make | games | like travel | make | like laugh | laugh | cook | things | like play | hang | nice | like good | drink | just like | eat | talk | like things | listen | like know | \n",
      "\n",
      "Group 6:\n",
      " | dating | site | looking neweeting | experiences | like meet | open | interesting people | york | new york | exploring | new experiences | explore | love meet | 'm new | make new | interested | meeting people | looking | person | people 'm | friends \n",
      "\n",
      "Group 7:\n",
      " | wanna | hard | hit | know | haha | names | sports | ..... | hey | real | talk | cool | type | music | d | outgoing | party | funny | single | currently | cause | message\n",
      "\n",
      "Group 8:\n",
      " area | living | east | transplant | moved | recently | college | new | berkeley | offer | explore | years | oakland | place | home | moving | exploring | currently | year | recently moved | live | places | la | south | came | recent | went\n",
      "\n",
      "Group 9:\n",
      " laugh | outgoing | dance | animals | laugh  love | music | city | nature | world | love good | love meet | family | make | .. | love sports | love traveling | great | really love | travel \n",
      "\n",
      "Group 10:\n",
      " message | come | guyst like | nt | hit | feel | .. | feel free | hang | thing | profile | send | just got | getting | site | lol | talk | tell | free | hi | \n",
      "\n",
      "Group 11:\n",
      " pretty | fun lovingoing | friendly | guy likes | simple | loves | try | honest | adventurous | enjoy going | guy like | drama | hard | say | loving | kind | laugh | enjoys | athletic | \n",
      "\n",
      "Group 12:\n",
      " | hard | experience | moment | loving | friends | special | life like | better | life love day | living life | life 's | love life | life 'm | great | passionate | \n",
      "\n",
      "Group 13:\n",
      " | spent | day | try | spare time | long time | time like | spare | | spend lot time | work hard play | hard \n",
      "\n",
      "Group 14:\n",
      " | earthme | friend | laugh  enjoy good | good company | listener | dry | like good | love good | great sense humor | times | good friends | people | good listener | pretty good | wine | friends | honest | kind | \n",
      "\n",
      "Group 15:\n",
      " | boston | grad school | southently moved | 2 | west coast | 3 | coast lived | college | year | california | east coast | moved sf | originally | years \n",
      "\n",
      "Group 16:\n",
      " | doing things | things love | open minded | make | minded | 'm trying | fun | willing | explore | things enjoy | person | adventures | simple things\n",
      "\n",
      "Group 17:\n",
      " think 's 'm | best | little | awesome | profile | 's like | guess | self | summary | better | 's great | maybe | 's time | \n",
      "\n",
      "Group 18:\n",
      " | people n't | thingse | way | n't mind | n't know  iously | know people | wo n't | \n",
      "\n",
      "Group 19:\n",
      " | enjoys | single | special | nice guy | person | open minded | date | guys | having funt | share | looking fun | funny | friends | smart | earth | outgoing | likes | loves | open | \n",
      "\n",
      "\n"
     ]
    }
   ],
   "source": [
    "K = 20\n",
    "nmf_inspect(tfidf, vocab, k_vals=[K], n_words=50)"
   ]
  },
  {
   "cell_type": "code",
   "execution_count": 38,
   "metadata": {},
   "outputs": [],
   "source": [
    "#These labels are based on the categories as assessed by Juan Shishido, then modified by me\n",
    "labels=['Sensitive','Relocated', 'About Me', 'Interests', 'Profile Writing', 'Joy of Living',\n",
    "       'Seeking', 'Cool', 'Relocation', 'Passions', 'Contact Me', 'Fun', 'Carpe Diem', 'Free Time',\n",
    "       'Friends', 'Before Here', 'Open-Minded', 'Describing', 'Nots', 'My Qualities']"
   ]
  },
  {
   "cell_type": "code",
   "execution_count": 39,
   "metadata": {},
   "outputs": [],
   "source": [
    "df['group'] = nmf_labels(tfidf, k=K)"
   ]
  },
  {
   "cell_type": "code",
   "execution_count": 43,
   "metadata": {},
   "outputs": [],
   "source": [
    "def lollipop_chart(df, demographic, colors=['LightGray', 'Black'], topic_labels=None):\n",
    "    \"\"\"Create the lollipop plots for the percentage of users in each NMF group\n",
    "\n",
    "    Parameters\n",
    "    ----------\n",
    "    df : pd.DataFrame\n",
    "        Should be created using `group_pct()` in `utils/splits.py`\n",
    "    demographic : str\n",
    "        Valid column name\n",
    "    colors : list\n",
    "        Valid Matplotlib colors codes or names (e.g., hex)\n",
    "    topic_labels : list, default None\n",
    "        x-axis labels\n",
    "\n",
    "    Returns\n",
    "    -------\n",
    "    None\n",
    "    \"\"\"\n",
    "    # plot\n",
    "    fig, ax = plt.subplots(figsize=(12, 8))\n",
    "    # lines\n",
    "    lineval = df.groupby('group')['pct'].max()\n",
    "    for i, g in enumerate(lineval):\n",
    "        plt.plot([i, i], [0, g], linewidth=1,\n",
    "                 color='Gray', zorder=1, alpha=0.5)\n",
    "    # markers\n",
    "    for i, d in enumerate(df[demographic].unique()):\n",
    "        tdf = df[df[demographic]==d]\n",
    "        plt.scatter(range(len(tdf)), tdf.pct,\n",
    "                    s=100, color=colors[i], edgecolor='None',\n",
    "                    lw=1, zorder=2, label=d.capitalize())\n",
    "    # plot options\n",
    "    plt.xlim(-0.5, len(tdf)-0.5)\n",
    "    plt.ylim(0)\n",
    "    plt.ylabel('Proportion of Users in Each Topic', fontsize=16)\n",
    "    plt.xlabel('Inferred Topic in Profile', fontsize=16)\n",
    "    plt.title('Topics In Male OkCupid Self-Introductions Across Education Levels', fontsize=20)\n",
    "    plt.legend(loc='lower left',title=\"Education Levels\", frameon=False)    \n",
    "    plt.gca().get_yaxis().set_major_formatter(\n",
    "        mpl.ticker.FuncFormatter(lambda y, p: format(y, '.0%')))\n",
    "    plt.tick_params(top='off', bottom='off', left='off', right='off')\n",
    "    ax.spines['top'].set_visible(False)\n",
    "    ax.spines['bottom'].set_color('DimGray')\n",
    "    ax.spines['left'].set_color('DimGray')\n",
    "    ax.spines['right'].set_visible(False)\n",
    "    ax.legend(loc='lower right', bbox_to_anchor=(1.3, 1),\n",
    "          ncol=1, fancybox=True, shadow=True)\n",
    "\n",
    "    if topic_labels:\n",
    "        plt.xticks(range(len(topic_labels)), topic_labels, rotation='vertical')"
   ]
  },
  {
   "cell_type": "code",
   "execution_count": 44,
   "metadata": {},
   "outputs": [],
   "source": [
    "demog = 'edu'\n",
    "subset = subset_df(df, demog, ['High School or less', 'More than High School'])\n",
    "grouped = group_pct(subset, demog)"
   ]
  },
  {
   "cell_type": "code",
   "execution_count": 45,
   "metadata": {},
   "outputs": [
    {
     "data": {
      "image/png": "[encoded data removed]",
      "text/plain": [
       "<Figure size 864x576 with 1 Axes>"
      ]
     },
     "metadata": {},
     "output_type": "display_data"
    }
   ],
   "source": [
    "lollipop_chart(grouped, demog, colors=['Purple', 'Cyan'],topic_labels=labels)"
   ]
  },
  {
   "cell_type": "markdown",
   "metadata": {},
   "source": [
    "### Section 2: Explaining the Visualization Choices"
   ]
  },
  {
   "cell_type": "markdown",
   "metadata": {},
   "source": [
    "### Data and Objectives\n",
    "The key overarching hypothesis to my research is that individuals present themselves differently across different situations and platforms depending on what they perceive to be desirable in that setting and their strategic goals from the social interaction. In the context of online dating, I am exploring whether men aim to increase their chances of finding a romantic partner specifically by ‘overcoming’ their perceived limitations in physical dimensions (such as height, weight and race) as well as education. \n",
    "\n",
    "If this trend were to be true for any of these variables, we would find a difference in the sub-categories thereof across the self-representations on these men’s profiles. Given the limitations of the available data (see ‘Initial Results’ PDF for more details), we focus on the ‘About Me’ self-introduction and apply topic modelling to assess for strategic choices of language and branding for self-representation.\n",
    "\n",
    "In this particular visualization, our variable of choice is that of education. I have used the completion of a high school diploma as a cut off point for ‘low’ or ‘high’ education. This is based on earning prospects observed above and below the threshold by the US Bureau of Labour Statistics (Torpey, 2018). Subsequent research can build more categories separately for undergraduate and post-graduate studies.\n",
    "\n",
    "If this trend were to be true for any of these variables, we would find a difference in the sub-categories thereof across the self-representations on these men’s profiles. Given the limitations of the available data (see ‘Initial Results’ PDF for more details), we focus on the ‘About Me’ self-introduction and apply topic modelling to assess for strategic choices of language and branding for self-representation.\n",
    "\n",
    "In this particular visualization, our variable of choice is that of education. I have used the completion of a high school diploma as a cut off point for ‘low’ or ‘high’ education. This is based on earning prospects observed above and below the threshold by the US Bureau of Labour Statistics (Torpey, 2018). Subsequent research can build more categories separately for undergraduate and post-graduate studies. \n"
   ]
  },
  {
   "cell_type": "markdown",
   "metadata": {},
   "source": [
    "### Graphical Form\n",
    "We have three variables at play- \n",
    "#### Qualitative/ Categorical:\n",
    "•\tThe topics derived from the model (and labelled by the human user)\n",
    "•\tThe sub-categories of the variable of interest. Here, we have ‘High School or Less’ versus ‘More than High Score’) \n",
    "#### Quantitative:\n",
    "•\tThe proportion of users whose self-introductions include the given topic. \n",
    "Given these characteristics, some natural candidates for the form of the visualization would include grouped bar charts. However, with 25 topics, this would lead to 50 separate bars (one pair for each of the topics), which would render the graph cramped and unreadable. \n",
    "Instead, we could use some kind of stacking of the two categories on top of each other, so as to conserve space and maintain the aesthetic of the visualization. The challenge is that this could potentially affect the functionality and truthfulness of the graph. The result would resemble a stacked bar chart- giving the false impression that we are dividing one topic among the two categories. The intension is to highlight differences in the proportions, which may be lost with that particular format. \n",
    "\n",
    "Given these constraints, the best alternative appeared to be the lollipop chart."
   ]
  },
  {
   "cell_type": "markdown",
   "metadata": {},
   "source": [
    "### Color\n",
    "As such, any colours could have been used. I chose cyan and purple as they add to the aesthetic appeal of the visualization, without confusing the meaning. \n",
    "It may have been possible to use different colours for the entire lollipop on each category. However, this would have created clutter. So I only applied the colour change at the ‘head’ of each lollipop. The ‘stick’ line was kept a light shade, so as to keep the overall structure clear, but not district from the more important encoding of colour. "
   ]
  },
  {
   "cell_type": "markdown",
   "metadata": {},
   "source": [
    "### Scale\n",
    "We are now seeking to assess differences in qualitative proportions. Since there are 25 different topics, the percentage of users for any one topic is low. In the data, this never exceeds 18%. Thus, if we were to use the whole range of percentage values, the results would be squashed into the bottom corner. Therefore, we focus only on the first 0 to 20% range so that the finer differences can be more easily discerned. This does not affect the truthfulness of the visualization (our goal was never to highlight the dominance of one topic over another). At the same time, it maintains the insight, aesthetics and functionality. "
   ]
  },
  {
   "cell_type": "markdown",
   "metadata": {},
   "source": [
    "### Spatial Positioning\n",
    "The topics could have been spaced on the y axis. However, I felt that one category scored 'more' than the other is better communicated by its marker being on top of- rather than to the right of- the other category's marker. Hence, the topics are placed on the x axis. "
   ]
  },
  {
   "cell_type": "markdown",
   "metadata": {},
   "source": [
    "### Story and Communications\n",
    "The key story- and intriguing insight is that for the most part, the topics that both educated and less educated use in their self-descriptions roughly similar. This flies in the face of the original hypothesis. Seeing the colours spread out roughly with the lollilop heads on top of each other reinforces the idea that the two groups are, in fact, almost equal in the proportion that use certain topics. \n",
    "There does exist one notable differences. Those with more than a High School Diploma focus on showing their artistic and sensitive side more than those with just a High School Diploma or less. It is counter-intuitive to the extent that the former do not seem to be highlighting their career, wealth or achievements. Whether this is done as natural self-expression or if driven by a perception of higher desirability of these softer traits towards women remains to be seen. \n",
    "Using clear colour distinctions and a lollilop chart all aim to emphasize these distinctions without a sense of visual overload. \n"
   ]
  },
  {
   "cell_type": "markdown",
   "metadata": {},
   "source": [
    "### REFERENCES\n",
    "Torpey, Elka, 2018. ‘Measuring the Value of Education’, US Bureau of Labour Statistics. Retrieved from:  https://www.bls.gov/careeroutlook/2018/data-on-display/education-pays.htm \n"
   ]
  }
 ],
 "metadata": {
  "kernelspec": {
   "display_name": "Python 3",
   "language": "python",
   "name": "python3"
  },
  "language_info": {
   "codemirror_mode": {
    "name": "ipython",
    "version": 3
   },
   "file_extension": ".py",
   "mimetype": "text/x-python",
   "name": "python",
   "nbconvert_exporter": "python",
   "pygments_lexer": "ipython3",
   "version": "3.6.5"
  }
 },
 "nbformat": 4,
 "nbformat_minor": 2
}
