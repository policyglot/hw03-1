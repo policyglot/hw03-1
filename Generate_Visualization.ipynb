{
 "cells": [
  {
   "cell_type": "markdown",
   "metadata": {},
   "source": [
    "# OkNLP"
   ]
  },
  {
   "cell_type": "code",
   "execution_count": 49,
   "metadata": {},
   "outputs": [],
   "source": [
    "import matplotlib as mpl\n",
    "import matplotlib.pyplot as plt\n",
    "import seaborn as sns"
   ]
  },
  {
   "cell_type": "code",
   "execution_count": 1,
   "metadata": {},
   "outputs": [
    {
     "name": "stderr",
     "output_type": "stream",
     "text": [
      "C:\\Users\\HP\\Anaconda3\\lib\\site-packages\\sklearn\\cross_validation.py:41: DeprecationWarning: This module was deprecated in version 0.18 in favor of the model_selection module into which all the refactored classes and functions are moved. Also note that the interface of the new CV iterators are different from that of this module. This module will be removed in 0.20.\n",
      "  \"This module will be removed in 0.20.\", DeprecationWarning)\n"
     ]
    }
   ],
   "source": [
    "import warnings\n",
    "\n",
    "\n",
    "import pandas as pd\n",
    "from sklearn.cross_validation import train_test_split\n",
    "from sklearn.linear_model import LogisticRegression\n",
    "from sklearn.metrics import accuracy_score\n",
    "warnings.filterwarnings('ignore')"
   ]
  },
  {
   "cell_type": "code",
   "execution_count": 18,
   "metadata": {},
   "outputs": [],
   "source": [
    "from utils.categorize_demographics import *\n",
    "from utils.clean_up import clean_up\n",
    "#from utils.distinctive_tokens import log_odds_ratio\n",
    "\n"
   ]
  },
  {
   "cell_type": "code",
   "execution_count": 31,
   "metadata": {},
   "outputs": [],
   "source": [
    "from utils.nonnegative_matrix_factorization import nmf_labels, nmf_inspect\n",
    "from utils.plotting import lollipop_paper\n",
    "from utils.splits import *\n",
    "from utils.text_representation import feature_vectors\n",
    "%matplotlib inline"
   ]
  },
  {
   "cell_type": "code",
   "execution_count": 3,
   "metadata": {},
   "outputs": [],
   "source": [
    "from utils.lexical_features import *"
   ]
  },
  {
   "cell_type": "code",
   "execution_count": null,
   "metadata": {},
   "outputs": [],
   "source": []
  },
  {
   "cell_type": "code",
   "execution_count": 4,
   "metadata": {},
   "outputs": [],
   "source": [
    "import seaborn as sns"
   ]
  },
  {
   "cell_type": "code",
   "execution_count": 8,
   "metadata": {},
   "outputs": [
    {
     "data": {
      "text/plain": [
       "array(['age', 'body_type', 'diet', 'drinks', 'drugs', 'education',\n",
       "       'essay0', 'essay1', 'essay2', 'essay3', 'essay4', 'essay5',\n",
       "       'essay6', 'essay7', 'essay8', 'essay9', 'ethnicity', 'height',\n",
       "       'income', 'job', 'last_online', 'location', 'offspring',\n",
       "       'orientation', 'pets', 'religion', 'sex', 'sign', 'smokes',\n",
       "       'speaks', 'status'], dtype=object)"
      ]
     },
     "execution_count": 8,
     "metadata": {},
     "output_type": "execute_result"
    }
   ],
   "source": [
    "df = pd.read_csv('data/profiles.csv')\n",
    "df.columns.values"
   ]
  },
  {
   "cell_type": "code",
   "execution_count": 9,
   "metadata": {},
   "outputs": [
    {
     "name": "stdout",
     "output_type": "stream",
     "text": [
      "60552\n",
      "41668\n"
     ]
    }
   ],
   "source": [
    "must_haves = ['body_type', 'height', 'education', 'ethnicity', 'sex', 'essay0']\n",
    "print(len(df))\n",
    "df = df.dropna(subset= must_haves)\n",
    "print(len(df))\n"
   ]
  },
  {
   "cell_type": "code",
   "execution_count": 10,
   "metadata": {},
   "outputs": [
    {
     "data": {
      "text/plain": [
       "25281"
      ]
     },
     "execution_count": 10,
     "metadata": {},
     "output_type": "execute_result"
    }
   ],
   "source": [
    "#Keep only men\n",
    "df= df[df['sex']==\"m\"]\n",
    "len(df)"
   ]
  },
  {
   "cell_type": "code",
   "execution_count": 35,
   "metadata": {},
   "outputs": [],
   "source": [
    "df.to_csv('okcupid_filtered.csv')"
   ]
  },
  {
   "cell_type": "code",
   "execution_count": 36,
   "metadata": {},
   "outputs": [],
   "source": [
    "def recode(text, dictionary, default=np.nan):\n",
    "    '''Function for recoding categories in a column based on exact matches'''\n",
    "    out = default\n",
    "    text = str(text)\n",
    "    \n",
    "    for x in dictionary.keys():\n",
    "        for y in dictionary[x]:\n",
    "            if y == text: #exact match\n",
    "                out = x\n",
    "                return out\n",
    "    return out"
   ]
  },
  {
   "cell_type": "code",
   "execution_count": 38,
   "metadata": {},
   "outputs": [],
   "source": [
    "##Recoding the data\n",
    "# education\n",
    "ed_levels = {'HS_or_less': ['dropped out of high school', 'working on high school','graduated from high school', 'working on college/university', \n",
    "                    'two-year college', 'dropped out of college/university', \n",
    "                    'high school'], \n",
    "             'more_than_HS': ['graduated from college/university', \n",
    "                    'working on masters program', 'working on ph.d program', \n",
    "                    'college/university', 'working on law school', \n",
    "                    'dropped out of masters program', \n",
    "                    'dropped out of ph.d program', 'dropped out of law school', \n",
    "                    'dropped out of med school',\n",
    "                    'graduated from masters program',\n",
    "                    'graduated from ph.d program',                           \n",
    "                    'graduated from law school', \n",
    "                    'graduated from med school', 'masters program', \n",
    "                    'ph.d program', 'law school', 'med school']}\n",
    "\n",
    "#body type\n",
    "bodies = {'fit': ['fit', 'athletic', 'jacked'], \n",
    "          'not_fit': ['average', 'thin', 'skinny','curvey', 'a little extra', \n",
    "                      'full figured', 'overweight', 'rather not say', 'used up']\n",
    "         }\n"
   ]
  },
  {
   "cell_type": "code",
   "execution_count": 39,
   "metadata": {},
   "outputs": [],
   "source": [
    "df['edu'] = df.education.apply(recode, dictionary=ed_levels, \n",
    "                                            default='unknown')\n",
    "df['fitness_level'] = df.body_type.apply(recode, dictionary=bodies, \n",
    "                                            default='unknown')"
   ]
  },
  {
   "cell_type": "code",
   "execution_count": 14,
   "metadata": {},
   "outputs": [],
   "source": [
    "#height\n",
    "df['height'] = pd.to_numeric(df['height'], errors = 'ignore')"
   ]
  },
  {
   "cell_type": "code",
   "execution_count": 15,
   "metadata": {},
   "outputs": [
    {
     "data": {
      "image/png": "[encoded data removed]",
      "text/plain": [
       "<Figure size 432x288 with 1 Axes>"
      ]
     },
     "metadata": {},
     "output_type": "display_data"
    }
   ],
   "source": [
    "#df['height'].hist(bins=15\n",
    "ax = sns.distplot(df['height'], \n",
    "                  axlabel= \"Heights in Inches\" ).set_title(\"Distribution of Men's Heights in the San Francisco region\")"
   ]
  },
  {
   "cell_type": "code",
   "execution_count": 16,
   "metadata": {},
   "outputs": [
    {
     "data": {
      "text/html": [
       "<div>\n",
       "<style scoped>\n",
       "    .dataframe tbody tr th:only-of-type {\n",
       "        vertical-align: middle;\n",
       "    }\n",
       "\n",
       "    .dataframe tbody tr th {\n",
       "        vertical-align: top;\n",
       "    }\n",
       "\n",
       "    .dataframe thead th {\n",
       "        text-align: right;\n",
       "    }\n",
       "</style>\n",
       "<table border=\"1\" class=\"dataframe\">\n",
       "  <thead>\n",
       "    <tr style=\"text-align: right;\">\n",
       "      <th></th>\n",
       "      <th>height</th>\n",
       "      <th>height_group</th>\n",
       "    </tr>\n",
       "  </thead>\n",
       "  <tbody>\n",
       "    <tr>\n",
       "      <th>0</th>\n",
       "      <td>75.0</td>\n",
       "      <td>not_short</td>\n",
       "    </tr>\n",
       "    <tr>\n",
       "      <th>1</th>\n",
       "      <td>70.0</td>\n",
       "      <td>not_short</td>\n",
       "    </tr>\n",
       "    <tr>\n",
       "      <th>3</th>\n",
       "      <td>71.0</td>\n",
       "      <td>not_short</td>\n",
       "    </tr>\n",
       "    <tr>\n",
       "      <th>4</th>\n",
       "      <td>66.0</td>\n",
       "      <td>short</td>\n",
       "    </tr>\n",
       "    <tr>\n",
       "      <th>5</th>\n",
       "      <td>67.0</td>\n",
       "      <td>not_short</td>\n",
       "    </tr>\n",
       "    <tr>\n",
       "      <th>9</th>\n",
       "      <td>65.0</td>\n",
       "      <td>short</td>\n",
       "    </tr>\n",
       "    <tr>\n",
       "      <th>11</th>\n",
       "      <td>72.0</td>\n",
       "      <td>not_short</td>\n",
       "    </tr>\n",
       "    <tr>\n",
       "      <th>16</th>\n",
       "      <td>70.0</td>\n",
       "      <td>not_short</td>\n",
       "    </tr>\n",
       "    <tr>\n",
       "      <th>18</th>\n",
       "      <td>71.0</td>\n",
       "      <td>not_short</td>\n",
       "    </tr>\n",
       "    <tr>\n",
       "      <th>19</th>\n",
       "      <td>72.0</td>\n",
       "      <td>not_short</td>\n",
       "    </tr>\n",
       "    <tr>\n",
       "      <th>22</th>\n",
       "      <td>69.0</td>\n",
       "      <td>not_short</td>\n",
       "    </tr>\n",
       "    <tr>\n",
       "      <th>23</th>\n",
       "      <td>71.0</td>\n",
       "      <td>not_short</td>\n",
       "    </tr>\n",
       "    <tr>\n",
       "      <th>24</th>\n",
       "      <td>73.0</td>\n",
       "      <td>not_short</td>\n",
       "    </tr>\n",
       "    <tr>\n",
       "      <th>25</th>\n",
       "      <td>70.0</td>\n",
       "      <td>not_short</td>\n",
       "    </tr>\n",
       "    <tr>\n",
       "      <th>26</th>\n",
       "      <td>72.0</td>\n",
       "      <td>not_short</td>\n",
       "    </tr>\n",
       "    <tr>\n",
       "      <th>29</th>\n",
       "      <td>68.0</td>\n",
       "      <td>not_short</td>\n",
       "    </tr>\n",
       "    <tr>\n",
       "      <th>34</th>\n",
       "      <td>69.0</td>\n",
       "      <td>not_short</td>\n",
       "    </tr>\n",
       "    <tr>\n",
       "      <th>36</th>\n",
       "      <td>69.0</td>\n",
       "      <td>not_short</td>\n",
       "    </tr>\n",
       "    <tr>\n",
       "      <th>37</th>\n",
       "      <td>69.0</td>\n",
       "      <td>not_short</td>\n",
       "    </tr>\n",
       "    <tr>\n",
       "      <th>39</th>\n",
       "      <td>74.0</td>\n",
       "      <td>not_short</td>\n",
       "    </tr>\n",
       "    <tr>\n",
       "      <th>41</th>\n",
       "      <td>72.0</td>\n",
       "      <td>not_short</td>\n",
       "    </tr>\n",
       "    <tr>\n",
       "      <th>42</th>\n",
       "      <td>75.0</td>\n",
       "      <td>not_short</td>\n",
       "    </tr>\n",
       "    <tr>\n",
       "      <th>43</th>\n",
       "      <td>71.0</td>\n",
       "      <td>not_short</td>\n",
       "    </tr>\n",
       "    <tr>\n",
       "      <th>45</th>\n",
       "      <td>69.0</td>\n",
       "      <td>not_short</td>\n",
       "    </tr>\n",
       "    <tr>\n",
       "      <th>52</th>\n",
       "      <td>69.0</td>\n",
       "      <td>not_short</td>\n",
       "    </tr>\n",
       "    <tr>\n",
       "      <th>53</th>\n",
       "      <td>69.0</td>\n",
       "      <td>not_short</td>\n",
       "    </tr>\n",
       "    <tr>\n",
       "      <th>54</th>\n",
       "      <td>69.0</td>\n",
       "      <td>not_short</td>\n",
       "    </tr>\n",
       "    <tr>\n",
       "      <th>55</th>\n",
       "      <td>70.0</td>\n",
       "      <td>not_short</td>\n",
       "    </tr>\n",
       "    <tr>\n",
       "      <th>56</th>\n",
       "      <td>71.0</td>\n",
       "      <td>not_short</td>\n",
       "    </tr>\n",
       "    <tr>\n",
       "      <th>57</th>\n",
       "      <td>72.0</td>\n",
       "      <td>not_short</td>\n",
       "    </tr>\n",
       "    <tr>\n",
       "      <th>...</th>\n",
       "      <td>...</td>\n",
       "      <td>...</td>\n",
       "    </tr>\n",
       "    <tr>\n",
       "      <th>60438</th>\n",
       "      <td>73.0</td>\n",
       "      <td>not_short</td>\n",
       "    </tr>\n",
       "    <tr>\n",
       "      <th>60439</th>\n",
       "      <td>70.0</td>\n",
       "      <td>not_short</td>\n",
       "    </tr>\n",
       "    <tr>\n",
       "      <th>60440</th>\n",
       "      <td>67.0</td>\n",
       "      <td>not_short</td>\n",
       "    </tr>\n",
       "    <tr>\n",
       "      <th>60444</th>\n",
       "      <td>68.0</td>\n",
       "      <td>not_short</td>\n",
       "    </tr>\n",
       "    <tr>\n",
       "      <th>60445</th>\n",
       "      <td>61.0</td>\n",
       "      <td>short</td>\n",
       "    </tr>\n",
       "    <tr>\n",
       "      <th>60460</th>\n",
       "      <td>70.0</td>\n",
       "      <td>not_short</td>\n",
       "    </tr>\n",
       "    <tr>\n",
       "      <th>60465</th>\n",
       "      <td>74.0</td>\n",
       "      <td>not_short</td>\n",
       "    </tr>\n",
       "    <tr>\n",
       "      <th>60466</th>\n",
       "      <td>68.0</td>\n",
       "      <td>not_short</td>\n",
       "    </tr>\n",
       "    <tr>\n",
       "      <th>60472</th>\n",
       "      <td>68.0</td>\n",
       "      <td>not_short</td>\n",
       "    </tr>\n",
       "    <tr>\n",
       "      <th>60474</th>\n",
       "      <td>70.0</td>\n",
       "      <td>not_short</td>\n",
       "    </tr>\n",
       "    <tr>\n",
       "      <th>60478</th>\n",
       "      <td>73.0</td>\n",
       "      <td>not_short</td>\n",
       "    </tr>\n",
       "    <tr>\n",
       "      <th>60480</th>\n",
       "      <td>75.0</td>\n",
       "      <td>not_short</td>\n",
       "    </tr>\n",
       "    <tr>\n",
       "      <th>60481</th>\n",
       "      <td>74.0</td>\n",
       "      <td>not_short</td>\n",
       "    </tr>\n",
       "    <tr>\n",
       "      <th>60484</th>\n",
       "      <td>68.0</td>\n",
       "      <td>not_short</td>\n",
       "    </tr>\n",
       "    <tr>\n",
       "      <th>60485</th>\n",
       "      <td>70.0</td>\n",
       "      <td>not_short</td>\n",
       "    </tr>\n",
       "    <tr>\n",
       "      <th>60486</th>\n",
       "      <td>69.0</td>\n",
       "      <td>not_short</td>\n",
       "    </tr>\n",
       "    <tr>\n",
       "      <th>60498</th>\n",
       "      <td>72.0</td>\n",
       "      <td>not_short</td>\n",
       "    </tr>\n",
       "    <tr>\n",
       "      <th>60500</th>\n",
       "      <td>71.0</td>\n",
       "      <td>not_short</td>\n",
       "    </tr>\n",
       "    <tr>\n",
       "      <th>60513</th>\n",
       "      <td>72.0</td>\n",
       "      <td>not_short</td>\n",
       "    </tr>\n",
       "    <tr>\n",
       "      <th>60516</th>\n",
       "      <td>67.0</td>\n",
       "      <td>not_short</td>\n",
       "    </tr>\n",
       "    <tr>\n",
       "      <th>60523</th>\n",
       "      <td>71.0</td>\n",
       "      <td>not_short</td>\n",
       "    </tr>\n",
       "    <tr>\n",
       "      <th>60529</th>\n",
       "      <td>71.0</td>\n",
       "      <td>not_short</td>\n",
       "    </tr>\n",
       "    <tr>\n",
       "      <th>60534</th>\n",
       "      <td>75.0</td>\n",
       "      <td>not_short</td>\n",
       "    </tr>\n",
       "    <tr>\n",
       "      <th>60535</th>\n",
       "      <td>68.0</td>\n",
       "      <td>not_short</td>\n",
       "    </tr>\n",
       "    <tr>\n",
       "      <th>60537</th>\n",
       "      <td>72.0</td>\n",
       "      <td>not_short</td>\n",
       "    </tr>\n",
       "    <tr>\n",
       "      <th>60543</th>\n",
       "      <td>69.0</td>\n",
       "      <td>not_short</td>\n",
       "    </tr>\n",
       "    <tr>\n",
       "      <th>60548</th>\n",
       "      <td>72.0</td>\n",
       "      <td>not_short</td>\n",
       "    </tr>\n",
       "    <tr>\n",
       "      <th>60549</th>\n",
       "      <td>71.0</td>\n",
       "      <td>not_short</td>\n",
       "    </tr>\n",
       "    <tr>\n",
       "      <th>60550</th>\n",
       "      <td>73.0</td>\n",
       "      <td>not_short</td>\n",
       "    </tr>\n",
       "    <tr>\n",
       "      <th>60551</th>\n",
       "      <td>68.0</td>\n",
       "      <td>not_short</td>\n",
       "    </tr>\n",
       "  </tbody>\n",
       "</table>\n",
       "<p>25281 rows × 2 columns</p>\n",
       "</div>"
      ],
      "text/plain": [
       "       height height_group\n",
       "0        75.0    not_short\n",
       "1        70.0    not_short\n",
       "3        71.0    not_short\n",
       "4        66.0        short\n",
       "5        67.0    not_short\n",
       "9        65.0        short\n",
       "11       72.0    not_short\n",
       "16       70.0    not_short\n",
       "18       71.0    not_short\n",
       "19       72.0    not_short\n",
       "22       69.0    not_short\n",
       "23       71.0    not_short\n",
       "24       73.0    not_short\n",
       "25       70.0    not_short\n",
       "26       72.0    not_short\n",
       "29       68.0    not_short\n",
       "34       69.0    not_short\n",
       "36       69.0    not_short\n",
       "37       69.0    not_short\n",
       "39       74.0    not_short\n",
       "41       72.0    not_short\n",
       "42       75.0    not_short\n",
       "43       71.0    not_short\n",
       "45       69.0    not_short\n",
       "52       69.0    not_short\n",
       "53       69.0    not_short\n",
       "54       69.0    not_short\n",
       "55       70.0    not_short\n",
       "56       71.0    not_short\n",
       "57       72.0    not_short\n",
       "...       ...          ...\n",
       "60438    73.0    not_short\n",
       "60439    70.0    not_short\n",
       "60440    67.0    not_short\n",
       "60444    68.0    not_short\n",
       "60445    61.0        short\n",
       "60460    70.0    not_short\n",
       "60465    74.0    not_short\n",
       "60466    68.0    not_short\n",
       "60472    68.0    not_short\n",
       "60474    70.0    not_short\n",
       "60478    73.0    not_short\n",
       "60480    75.0    not_short\n",
       "60481    74.0    not_short\n",
       "60484    68.0    not_short\n",
       "60485    70.0    not_short\n",
       "60486    69.0    not_short\n",
       "60498    72.0    not_short\n",
       "60500    71.0    not_short\n",
       "60513    72.0    not_short\n",
       "60516    67.0    not_short\n",
       "60523    71.0    not_short\n",
       "60529    71.0    not_short\n",
       "60534    75.0    not_short\n",
       "60535    68.0    not_short\n",
       "60537    72.0    not_short\n",
       "60543    69.0    not_short\n",
       "60548    72.0    not_short\n",
       "60549    71.0    not_short\n",
       "60550    73.0    not_short\n",
       "60551    68.0    not_short\n",
       "\n",
       "[25281 rows x 2 columns]"
      ]
     },
     "execution_count": 16,
     "metadata": {},
     "output_type": "execute_result"
    }
   ],
   "source": [
    "def height_check(inches):\n",
    "    h = 'not_short'\n",
    "    if inches <= 66:\n",
    "        h = 'short'\n",
    "    return h\n",
    "\n",
    "df['height_group'] = df.height.apply(height_check)\n",
    "df[['height', 'height_group']]"
   ]
  },
  {
   "cell_type": "markdown",
   "metadata": {},
   "source": [
    "## Data"
   ]
  },
  {
   "cell_type": "code",
   "execution_count": null,
   "metadata": {},
   "outputs": [],
   "source": [
    "# Some of the essays have just a link in the text. BeautifulSoup sees that and gets \n",
    "# the wrong idea. This line hides those warnings.\n",
    "warnings.filterwarnings(\"ignore\", category=UserWarning, module='bs4')\n",
    "def clean(text):\n",
    "    if pd.isnull(text):\n",
    "        t = np.nan\n",
    "    else:\n",
    "        t = BeautifulSoup(text, 'lxml').get_text()\n",
    "        t = t.lower()\n",
    "\n",
    "        bad_words = ['http', 'www', '\\nnan']\n",
    "\n",
    "        for b in bad_words:\n",
    "            t = t.replace(b, '')\n",
    "    if t == '':\n",
    "        t = np.nan\n",
    "    \n",
    "    return t"
   ]
  },
  {
   "cell_type": "code",
   "execution_count": 19,
   "metadata": {},
   "outputs": [
    {
     "name": "stderr",
     "output_type": "stream",
     "text": [
      "C:\\Users\\HP\\Anaconda3\\lib\\site-packages\\bs4\\__init__.py:282: UserWarning: \"http://www.youtube.com/watch?v=imtdwizwedu\" looks like a URL. Beautiful Soup is not an HTTP client. You should probably use an HTTP client like requests to get the document behind the URL, and feed that document to Beautiful Soup.\n",
      "  ' that document to Beautiful Soup.' % decoded_markup\n",
      "C:\\Users\\HP\\Anaconda3\\lib\\site-packages\\bs4\\__init__.py:282: UserWarning: \"http://www.youtube.com/watch?v=5ezetzpcsmo&amp;feature=related\" looks like a URL. Beautiful Soup is not an HTTP client. You should probably use an HTTP client like requests to get the document behind the URL, and feed that document to Beautiful Soup.\n",
      "  ' that document to Beautiful Soup.' % decoded_markup\n",
      "C:\\Users\\HP\\Anaconda3\\lib\\site-packages\\bs4\\__init__.py:282: UserWarning: \"http://www.youtube.com/watch?v=fgi-hthl7ti&amp;feature=plcp\" looks like a URL. Beautiful Soup is not an HTTP client. You should probably use an HTTP client like requests to get the document behind the URL, and feed that document to Beautiful Soup.\n",
      "  ' that document to Beautiful Soup.' % decoded_markup\n",
      "C:\\Users\\HP\\Anaconda3\\lib\\site-packages\\bs4\\__init__.py:282: UserWarning: \"http://oldnatkingcoletrickle.tumblr.com/\" looks like a URL. Beautiful Soup is not an HTTP client. You should probably use an HTTP client like requests to get the document behind the URL, and feed that document to Beautiful Soup.\n",
      "  ' that document to Beautiful Soup.' % decoded_markup\n",
      "C:\\Users\\HP\\Anaconda3\\lib\\site-packages\\bs4\\__init__.py:219: UserWarning: \"b'.'\" looks like a filename, not markup. You should probably open this file and pass the filehandle into Beautiful Soup.\n",
      "  ' Beautiful Soup.' % markup)\n",
      "C:\\Users\\HP\\Anaconda3\\lib\\site-packages\\bs4\\__init__.py:282: UserWarning: \"http://www.youtube.com/watch?v=ujcj6jgpq_m&amp;feature=youtube_gdata_player\" looks like a URL. Beautiful Soup is not an HTTP client. You should probably use an HTTP client like requests to get the document behind the URL, and feed that document to Beautiful Soup.\n",
      "  ' that document to Beautiful Soup.' % decoded_markup\n",
      "C:\\Users\\HP\\Anaconda3\\lib\\site-packages\\bs4\\__init__.py:282: UserWarning: \"http://youtu.be/7nvdklgi52s\" looks like a URL. Beautiful Soup is not an HTTP client. You should probably use an HTTP client like requests to get the document behind the URL, and feed that document to Beautiful Soup.\n",
      "  ' that document to Beautiful Soup.' % decoded_markup\n",
      "C:\\Users\\HP\\Anaconda3\\lib\\site-packages\\bs4\\__init__.py:219: UserWarning: \"b'.'\" looks like a filename, not markup. You should probably open this file and pass the filehandle into Beautiful Soup.\n",
      "  ' Beautiful Soup.' % markup)\n",
      "C:\\Users\\HP\\Anaconda3\\lib\\site-packages\\bs4\\__init__.py:282: UserWarning: \"http://www.youtube.com/watch?v=eeep67akin4&amp;feature=related\" looks like a URL. Beautiful Soup is not an HTTP client. You should probably use an HTTP client like requests to get the document behind the URL, and feed that document to Beautiful Soup.\n",
      "  ' that document to Beautiful Soup.' % decoded_markup\n",
      "C:\\Users\\HP\\Anaconda3\\lib\\site-packages\\bs4\\__init__.py:219: UserWarning: \"b'.'\" looks like a filename, not markup. You should probably open this file and pass the filehandle into Beautiful Soup.\n",
      "  ' Beautiful Soup.' % markup)\n",
      "C:\\Users\\HP\\Anaconda3\\lib\\site-packages\\bs4\\__init__.py:219: UserWarning: \"b'.'\" looks like a filename, not markup. You should probably open this file and pass the filehandle into Beautiful Soup.\n",
      "  ' Beautiful Soup.' % markup)\n",
      "C:\\Users\\HP\\Anaconda3\\lib\\site-packages\\bs4\\__init__.py:219: UserWarning: \"b'...'\" looks like a filename, not markup. You should probably open this file and pass the filehandle into Beautiful Soup.\n",
      "  ' Beautiful Soup.' % markup)\n",
      "C:\\Users\\HP\\Anaconda3\\lib\\site-packages\\bs4\\__init__.py:219: UserWarning: \"b'...'\" looks like a filename, not markup. You should probably open this file and pass the filehandle into Beautiful Soup.\n",
      "  ' Beautiful Soup.' % markup)\n",
      "C:\\Users\\HP\\Anaconda3\\lib\\site-packages\\bs4\\__init__.py:219: UserWarning: \"b'/'\" looks like a filename, not markup. You should probably open this file and pass the filehandle into Beautiful Soup.\n",
      "  ' Beautiful Soup.' % markup)\n",
      "C:\\Users\\HP\\Anaconda3\\lib\\site-packages\\bs4\\__init__.py:282: UserWarning: \"http://www.youtube.com/watch?v=5tjwovuzejo\" looks like a URL. Beautiful Soup is not an HTTP client. You should probably use an HTTP client like requests to get the document behind the URL, and feed that document to Beautiful Soup.\n",
      "  ' that document to Beautiful Soup.' % decoded_markup\n",
      "C:\\Users\\HP\\Anaconda3\\lib\\site-packages\\bs4\\__init__.py:219: UserWarning: \"b'.'\" looks like a filename, not markup. You should probably open this file and pass the filehandle into Beautiful Soup.\n",
      "  ' Beautiful Soup.' % markup)\n",
      "C:\\Users\\HP\\Anaconda3\\lib\\site-packages\\bs4\\__init__.py:282: UserWarning: \"http://rejon.org/bio\" looks like a URL. Beautiful Soup is not an HTTP client. You should probably use an HTTP client like requests to get the document behind the URL, and feed that document to Beautiful Soup.\n",
      "  ' that document to Beautiful Soup.' % decoded_markup\n",
      "C:\\Users\\HP\\Anaconda3\\lib\\site-packages\\bs4\\__init__.py:219: UserWarning: \"b'.'\" looks like a filename, not markup. You should probably open this file and pass the filehandle into Beautiful Soup.\n",
      "  ' Beautiful Soup.' % markup)\n",
      "C:\\Users\\HP\\Anaconda3\\lib\\site-packages\\bs4\\__init__.py:282: UserWarning: \"http://imgsrc.hubblesite.org/hu/db/images/hs-1995-13-a-web.jpg\" looks like a URL. Beautiful Soup is not an HTTP client. You should probably use an HTTP client like requests to get the document behind the URL, and feed that document to Beautiful Soup.\n",
      "  ' that document to Beautiful Soup.' % decoded_markup\n",
      "C:\\Users\\HP\\Anaconda3\\lib\\site-packages\\bs4\\__init__.py:219: UserWarning: \"b'.'\" looks like a filename, not markup. You should probably open this file and pass the filehandle into Beautiful Soup.\n",
      "  ' Beautiful Soup.' % markup)\n",
      "C:\\Users\\HP\\Anaconda3\\lib\\site-packages\\bs4\\__init__.py:282: UserWarning: \"http://www.youtube.com/watch?v=ktwstrixhm0\" looks like a URL. Beautiful Soup is not an HTTP client. You should probably use an HTTP client like requests to get the document behind the URL, and feed that document to Beautiful Soup.\n",
      "  ' that document to Beautiful Soup.' % decoded_markup\n",
      "C:\\Users\\HP\\Anaconda3\\lib\\site-packages\\bs4\\__init__.py:219: UserWarning: \"b'.'\" looks like a filename, not markup. You should probably open this file and pass the filehandle into Beautiful Soup.\n",
      "  ' Beautiful Soup.' % markup)\n"
     ]
    },
    {
     "ename": "KeyboardInterrupt",
     "evalue": "",
     "output_type": "error",
     "traceback": [
      "\u001b[1;31m---------------------------------------------------------------------------\u001b[0m",
      "\u001b[1;31mOSError\u001b[0m                                   Traceback (most recent call last)",
      "\u001b[1;32m~\\Anaconda3\\lib\\genericpath.py\u001b[0m in \u001b[0;36mexists\u001b[1;34m(path)\u001b[0m\n\u001b[0;32m     18\u001b[0m     \u001b[1;32mtry\u001b[0m\u001b[1;33m:\u001b[0m\u001b[1;33m\u001b[0m\u001b[0m\n\u001b[1;32m---> 19\u001b[1;33m         \u001b[0mos\u001b[0m\u001b[1;33m.\u001b[0m\u001b[0mstat\u001b[0m\u001b[1;33m(\u001b[0m\u001b[0mpath\u001b[0m\u001b[1;33m)\u001b[0m\u001b[1;33m\u001b[0m\u001b[0m\n\u001b[0m\u001b[0;32m     20\u001b[0m     \u001b[1;32mexcept\u001b[0m \u001b[0mOSError\u001b[0m\u001b[1;33m:\u001b[0m\u001b[1;33m\u001b[0m\u001b[0m\n",
      "\u001b[1;31mOSError\u001b[0m: [WinError 123] The filename, directory name, or volume label syntax is incorrect: \"if you're fun and energetic, have a good sense of humor, and like\\nto laugh. if you're a smartypants, or think you are. :)\"",
      "\nDuring handling of the above exception, another exception occurred:\n",
      "\u001b[1;31mKeyboardInterrupt\u001b[0m                         Traceback (most recent call last)",
      "\u001b[1;32m<ipython-input-19-84aa157ee570>\u001b[0m in \u001b[0;36m<module>\u001b[1;34m()\u001b[0m\n\u001b[0;32m      1\u001b[0m \u001b[0messay_list\u001b[0m \u001b[1;33m=\u001b[0m \u001b[1;33m[\u001b[0m\u001b[1;34m'essay0'\u001b[0m\u001b[1;33m,\u001b[0m \u001b[1;34m'essay9'\u001b[0m\u001b[1;33m]\u001b[0m\u001b[1;33m\u001b[0m\u001b[0m\n\u001b[1;32m----> 2\u001b[1;33m \u001b[0mdf_0\u001b[0m\u001b[1;33m,\u001b[0m \u001b[0mdf_9\u001b[0m \u001b[1;33m=\u001b[0m \u001b[0mclean_up\u001b[0m\u001b[1;33m(\u001b[0m\u001b[0mdf\u001b[0m\u001b[1;33m,\u001b[0m \u001b[0messay_list\u001b[0m\u001b[1;33m)\u001b[0m\u001b[1;33m\u001b[0m\u001b[0m\n\u001b[0m\u001b[0;32m      3\u001b[0m \u001b[1;33m\u001b[0m\u001b[0m\n\u001b[0;32m      4\u001b[0m \u001b[0mdf_0\u001b[0m \u001b[1;33m=\u001b[0m \u001b[0mrecategorize\u001b[0m\u001b[1;33m(\u001b[0m\u001b[0mdf_0\u001b[0m\u001b[1;33m)\u001b[0m\u001b[1;33m\u001b[0m\u001b[0m\n\u001b[0;32m      5\u001b[0m \u001b[0mdf_9\u001b[0m \u001b[1;33m=\u001b[0m \u001b[0mrecategorize\u001b[0m\u001b[1;33m(\u001b[0m\u001b[0mdf_9\u001b[0m\u001b[1;33m)\u001b[0m\u001b[1;33m\u001b[0m\u001b[0m\n",
      "\u001b[1;32mD:\\Dropbox\\Repositories\\persp-research_S19\\okcupid\\utils\\clean_up.py\u001b[0m in \u001b[0;36mclean_up\u001b[1;34m(input_df, col_names, min_words)\u001b[0m\n\u001b[0;32m     18\u001b[0m         \u001b[0mdf\u001b[0m \u001b[1;33m=\u001b[0m \u001b[0minput_df\u001b[0m\u001b[1;33m.\u001b[0m\u001b[0mcopy\u001b[0m\u001b[1;33m(\u001b[0m\u001b[1;33m)\u001b[0m\u001b[1;33m\u001b[0m\u001b[0m\n\u001b[0;32m     19\u001b[0m         \u001b[0mdf\u001b[0m\u001b[1;33m[\u001b[0m\u001b[0mc\u001b[0m\u001b[1;33m]\u001b[0m \u001b[1;33m=\u001b[0m \u001b[0mdf\u001b[0m\u001b[1;33m[\u001b[0m\u001b[0mc\u001b[0m\u001b[1;33m]\u001b[0m\u001b[1;33m.\u001b[0m\u001b[0mreplace\u001b[0m\u001b[1;33m(\u001b[0m\u001b[0mnp\u001b[0m\u001b[1;33m.\u001b[0m\u001b[0mnan\u001b[0m\u001b[1;33m,\u001b[0m \u001b[1;34m''\u001b[0m \u001b[1;33m,\u001b[0m \u001b[0mregex\u001b[0m\u001b[1;33m=\u001b[0m\u001b[1;32mTrue\u001b[0m\u001b[1;33m)\u001b[0m\u001b[0;31m \u001b[0m\u001b[0;31m\\\u001b[0m\u001b[1;33m\u001b[0m\u001b[0m\n\u001b[1;32m---> 20\u001b[1;33m                      \u001b[1;33m.\u001b[0m\u001b[0mapply\u001b[0m\u001b[1;33m(\u001b[0m\u001b[1;32mlambda\u001b[0m \u001b[0mx\u001b[0m\u001b[1;33m:\u001b[0m \u001b[0mBeautifulSoup\u001b[0m\u001b[1;33m(\u001b[0m\u001b[0mx\u001b[0m\u001b[1;33m,\u001b[0m \u001b[0mfeatures\u001b[0m\u001b[1;33m=\u001b[0m\u001b[1;34m'lxml'\u001b[0m\u001b[1;33m)\u001b[0m\u001b[1;33m.\u001b[0m\u001b[0mgetText\u001b[0m\u001b[1;33m(\u001b[0m\u001b[1;33m)\u001b[0m\u001b[1;33m.\u001b[0m\u001b[0mreplace\u001b[0m\u001b[1;33m(\u001b[0m\u001b[1;34m'\\n'\u001b[0m\u001b[1;33m,\u001b[0m \u001b[1;34m' '\u001b[0m\u001b[1;33m)\u001b[0m\u001b[1;33m)\u001b[0m\u001b[0;31m\\\u001b[0m\u001b[1;33m\u001b[0m\u001b[0m\n\u001b[0m\u001b[0;32m     21\u001b[0m                      \u001b[1;33m.\u001b[0m\u001b[0mapply\u001b[0m\u001b[1;33m(\u001b[0m\u001b[1;32mlambda\u001b[0m \u001b[0mx\u001b[0m\u001b[1;33m:\u001b[0m \u001b[0mre\u001b[0m\u001b[1;33m.\u001b[0m\u001b[0msub\u001b[0m\u001b[1;33m(\u001b[0m\u001b[1;34mr\"(?:\\@|https?\\://)\\S+\"\u001b[0m\u001b[1;33m,\u001b[0m \u001b[1;34m\"\"\u001b[0m\u001b[1;33m,\u001b[0m \u001b[0mx\u001b[0m\u001b[1;33m)\u001b[0m\u001b[1;33m)\u001b[0m\u001b[0;31m\\\u001b[0m\u001b[1;33m\u001b[0m\u001b[0m\n\u001b[0;32m     22\u001b[0m                      \u001b[1;33m.\u001b[0m\u001b[0mapply\u001b[0m\u001b[1;33m(\u001b[0m\u001b[1;32mlambda\u001b[0m \u001b[0mx\u001b[0m\u001b[1;33m:\u001b[0m \u001b[0mre\u001b[0m\u001b[1;33m.\u001b[0m\u001b[0msub\u001b[0m\u001b[1;33m(\u001b[0m\u001b[1;34m'[.]{2,}'\u001b[0m\u001b[1;33m,\u001b[0m \u001b[1;34m'. '\u001b[0m\u001b[1;33m,\u001b[0m \u001b[0mx\u001b[0m\u001b[1;33m)\u001b[0m\u001b[1;33m)\u001b[0m\u001b[0;31m\\\u001b[0m\u001b[1;33m\u001b[0m\u001b[0m\n",
      "\u001b[1;32m~\\Anaconda3\\lib\\site-packages\\pandas\\core\\series.py\u001b[0m in \u001b[0;36mapply\u001b[1;34m(self, func, convert_dtype, args, **kwds)\u001b[0m\n\u001b[0;32m   3190\u001b[0m             \u001b[1;32melse\u001b[0m\u001b[1;33m:\u001b[0m\u001b[1;33m\u001b[0m\u001b[0m\n\u001b[0;32m   3191\u001b[0m                 \u001b[0mvalues\u001b[0m \u001b[1;33m=\u001b[0m \u001b[0mself\u001b[0m\u001b[1;33m.\u001b[0m\u001b[0mastype\u001b[0m\u001b[1;33m(\u001b[0m\u001b[0mobject\u001b[0m\u001b[1;33m)\u001b[0m\u001b[1;33m.\u001b[0m\u001b[0mvalues\u001b[0m\u001b[1;33m\u001b[0m\u001b[0m\n\u001b[1;32m-> 3192\u001b[1;33m                 \u001b[0mmapped\u001b[0m \u001b[1;33m=\u001b[0m \u001b[0mlib\u001b[0m\u001b[1;33m.\u001b[0m\u001b[0mmap_infer\u001b[0m\u001b[1;33m(\u001b[0m\u001b[0mvalues\u001b[0m\u001b[1;33m,\u001b[0m \u001b[0mf\u001b[0m\u001b[1;33m,\u001b[0m \u001b[0mconvert\u001b[0m\u001b[1;33m=\u001b[0m\u001b[0mconvert_dtype\u001b[0m\u001b[1;33m)\u001b[0m\u001b[1;33m\u001b[0m\u001b[0m\n\u001b[0m\u001b[0;32m   3193\u001b[0m \u001b[1;33m\u001b[0m\u001b[0m\n\u001b[0;32m   3194\u001b[0m         \u001b[1;32mif\u001b[0m \u001b[0mlen\u001b[0m\u001b[1;33m(\u001b[0m\u001b[0mmapped\u001b[0m\u001b[1;33m)\u001b[0m \u001b[1;32mand\u001b[0m \u001b[0misinstance\u001b[0m\u001b[1;33m(\u001b[0m\u001b[0mmapped\u001b[0m\u001b[1;33m[\u001b[0m\u001b[1;36m0\u001b[0m\u001b[1;33m]\u001b[0m\u001b[1;33m,\u001b[0m \u001b[0mSeries\u001b[0m\u001b[1;33m)\u001b[0m\u001b[1;33m:\u001b[0m\u001b[1;33m\u001b[0m\u001b[0m\n",
      "\u001b[1;32mpandas/_libs/src\\inference.pyx\u001b[0m in \u001b[0;36mpandas._libs.lib.map_infer\u001b[1;34m()\u001b[0m\n",
      "\u001b[1;32mD:\\Dropbox\\Repositories\\persp-research_S19\\okcupid\\utils\\clean_up.py\u001b[0m in \u001b[0;36m<lambda>\u001b[1;34m(x)\u001b[0m\n\u001b[0;32m     18\u001b[0m         \u001b[0mdf\u001b[0m \u001b[1;33m=\u001b[0m \u001b[0minput_df\u001b[0m\u001b[1;33m.\u001b[0m\u001b[0mcopy\u001b[0m\u001b[1;33m(\u001b[0m\u001b[1;33m)\u001b[0m\u001b[1;33m\u001b[0m\u001b[0m\n\u001b[0;32m     19\u001b[0m         \u001b[0mdf\u001b[0m\u001b[1;33m[\u001b[0m\u001b[0mc\u001b[0m\u001b[1;33m]\u001b[0m \u001b[1;33m=\u001b[0m \u001b[0mdf\u001b[0m\u001b[1;33m[\u001b[0m\u001b[0mc\u001b[0m\u001b[1;33m]\u001b[0m\u001b[1;33m.\u001b[0m\u001b[0mreplace\u001b[0m\u001b[1;33m(\u001b[0m\u001b[0mnp\u001b[0m\u001b[1;33m.\u001b[0m\u001b[0mnan\u001b[0m\u001b[1;33m,\u001b[0m \u001b[1;34m''\u001b[0m \u001b[1;33m,\u001b[0m \u001b[0mregex\u001b[0m\u001b[1;33m=\u001b[0m\u001b[1;32mTrue\u001b[0m\u001b[1;33m)\u001b[0m\u001b[0;31m \u001b[0m\u001b[0;31m\\\u001b[0m\u001b[1;33m\u001b[0m\u001b[0m\n\u001b[1;32m---> 20\u001b[1;33m                      \u001b[1;33m.\u001b[0m\u001b[0mapply\u001b[0m\u001b[1;33m(\u001b[0m\u001b[1;32mlambda\u001b[0m \u001b[0mx\u001b[0m\u001b[1;33m:\u001b[0m \u001b[0mBeautifulSoup\u001b[0m\u001b[1;33m(\u001b[0m\u001b[0mx\u001b[0m\u001b[1;33m,\u001b[0m \u001b[0mfeatures\u001b[0m\u001b[1;33m=\u001b[0m\u001b[1;34m'lxml'\u001b[0m\u001b[1;33m)\u001b[0m\u001b[1;33m.\u001b[0m\u001b[0mgetText\u001b[0m\u001b[1;33m(\u001b[0m\u001b[1;33m)\u001b[0m\u001b[1;33m.\u001b[0m\u001b[0mreplace\u001b[0m\u001b[1;33m(\u001b[0m\u001b[1;34m'\\n'\u001b[0m\u001b[1;33m,\u001b[0m \u001b[1;34m' '\u001b[0m\u001b[1;33m)\u001b[0m\u001b[1;33m)\u001b[0m\u001b[0;31m\\\u001b[0m\u001b[1;33m\u001b[0m\u001b[0m\n\u001b[0m\u001b[0;32m     21\u001b[0m                      \u001b[1;33m.\u001b[0m\u001b[0mapply\u001b[0m\u001b[1;33m(\u001b[0m\u001b[1;32mlambda\u001b[0m \u001b[0mx\u001b[0m\u001b[1;33m:\u001b[0m \u001b[0mre\u001b[0m\u001b[1;33m.\u001b[0m\u001b[0msub\u001b[0m\u001b[1;33m(\u001b[0m\u001b[1;34mr\"(?:\\@|https?\\://)\\S+\"\u001b[0m\u001b[1;33m,\u001b[0m \u001b[1;34m\"\"\u001b[0m\u001b[1;33m,\u001b[0m \u001b[0mx\u001b[0m\u001b[1;33m)\u001b[0m\u001b[1;33m)\u001b[0m\u001b[0;31m\\\u001b[0m\u001b[1;33m\u001b[0m\u001b[0m\n\u001b[0;32m     22\u001b[0m                      \u001b[1;33m.\u001b[0m\u001b[0mapply\u001b[0m\u001b[1;33m(\u001b[0m\u001b[1;32mlambda\u001b[0m \u001b[0mx\u001b[0m\u001b[1;33m:\u001b[0m \u001b[0mre\u001b[0m\u001b[1;33m.\u001b[0m\u001b[0msub\u001b[0m\u001b[1;33m(\u001b[0m\u001b[1;34m'[.]{2,}'\u001b[0m\u001b[1;33m,\u001b[0m \u001b[1;34m'. '\u001b[0m\u001b[1;33m,\u001b[0m \u001b[0mx\u001b[0m\u001b[1;33m)\u001b[0m\u001b[1;33m)\u001b[0m\u001b[0;31m\\\u001b[0m\u001b[1;33m\u001b[0m\u001b[0m\n",
      "\u001b[1;32m~\\Anaconda3\\lib\\site-packages\\bs4\\__init__.py\u001b[0m in \u001b[0;36m__init__\u001b[1;34m(self, markup, features, builder, parse_only, from_encoding, exclude_encodings, **kwargs)\u001b[0m\n\u001b[0;32m    205\u001b[0m             \u001b[0mis_file\u001b[0m \u001b[1;33m=\u001b[0m \u001b[1;32mFalse\u001b[0m\u001b[1;33m\u001b[0m\u001b[0m\n\u001b[0;32m    206\u001b[0m             \u001b[1;32mtry\u001b[0m\u001b[1;33m:\u001b[0m\u001b[1;33m\u001b[0m\u001b[0m\n\u001b[1;32m--> 207\u001b[1;33m                 \u001b[0mis_file\u001b[0m \u001b[1;33m=\u001b[0m \u001b[0mos\u001b[0m\u001b[1;33m.\u001b[0m\u001b[0mpath\u001b[0m\u001b[1;33m.\u001b[0m\u001b[0mexists\u001b[0m\u001b[1;33m(\u001b[0m\u001b[0mpossible_filename\u001b[0m\u001b[1;33m)\u001b[0m\u001b[1;33m\u001b[0m\u001b[0m\n\u001b[0m\u001b[0;32m    208\u001b[0m             \u001b[1;32mexcept\u001b[0m \u001b[0mException\u001b[0m \u001b[1;32mas\u001b[0m \u001b[0me\u001b[0m\u001b[1;33m:\u001b[0m\u001b[1;33m\u001b[0m\u001b[0m\n\u001b[0;32m    209\u001b[0m                 \u001b[1;31m# This is almost certainly a problem involving\u001b[0m\u001b[1;33m\u001b[0m\u001b[1;33m\u001b[0m\u001b[0m\n",
      "\u001b[1;32m~\\Anaconda3\\lib\\genericpath.py\u001b[0m in \u001b[0;36mexists\u001b[1;34m(path)\u001b[0m\n\u001b[0;32m     17\u001b[0m     \u001b[1;34m\"\"\"Test whether a path exists.  Returns False for broken symbolic links\"\"\"\u001b[0m\u001b[1;33m\u001b[0m\u001b[0m\n\u001b[0;32m     18\u001b[0m     \u001b[1;32mtry\u001b[0m\u001b[1;33m:\u001b[0m\u001b[1;33m\u001b[0m\u001b[0m\n\u001b[1;32m---> 19\u001b[1;33m         \u001b[0mos\u001b[0m\u001b[1;33m.\u001b[0m\u001b[0mstat\u001b[0m\u001b[1;33m(\u001b[0m\u001b[0mpath\u001b[0m\u001b[1;33m)\u001b[0m\u001b[1;33m\u001b[0m\u001b[0m\n\u001b[0m\u001b[0;32m     20\u001b[0m     \u001b[1;32mexcept\u001b[0m \u001b[0mOSError\u001b[0m\u001b[1;33m:\u001b[0m\u001b[1;33m\u001b[0m\u001b[0m\n\u001b[0;32m     21\u001b[0m         \u001b[1;32mreturn\u001b[0m \u001b[1;32mFalse\u001b[0m\u001b[1;33m\u001b[0m\u001b[0m\n",
      "\u001b[1;31mKeyboardInterrupt\u001b[0m: "
     ]
    }
   ],
   "source": [
    "essay_list = ['essay0', 'essay9']\n",
    "df_0, df_9 = clean_up(df, essay_list)\n",
    "\n",
    "df_0 = recategorize(df_0)\n",
    "df_9 = recategorize(df_9)"
   ]
  },
  {
   "cell_type": "markdown",
   "metadata": {},
   "source": [
    "## Lexical"
   ]
  },
  {
   "cell_type": "markdown",
   "metadata": {},
   "source": [
    "Based on the universal tagset of Petrov, Das, & McDonald ([link](https://github.com/slavpetrov/universal-pos-tags)).\n",
    "\n",
    "```\n",
    "ADJ - adjectives\n",
    "ADP - adpositions (prepositions and postpositions)\n",
    "ADV - adverbs\n",
    "CONJ - conjunctions\n",
    "DET - determiners\n",
    "NOUN - nouns (common and proper)\n",
    "NUM - cardinal numbers\n",
    "PART - particles or other function words\n",
    "PRON - pronouns\n",
    "PUNCT - punctuation\n",
    "VERB - verbs (all tenses and modes)\n",
    "X - other: foreign words, typos, abbreviations\n",
    "```\n",
    "\n",
    "spaCy-specific information: https://spacy.io/docs#token-postags."
   ]
  },
  {
   "cell_type": "code",
   "execution_count": 3,
   "metadata": {},
   "outputs": [],
   "source": [
    "pos = pos_df(df_0.essay0)\n",
    "pos_norm = pos_normalize(pos)"
   ]
  },
  {
   "cell_type": "markdown",
   "metadata": {},
   "source": [
    "### Essay Length"
   ]
  },
  {
   "cell_type": "code",
   "execution_count": 4,
   "metadata": {},
   "outputs": [
    {
     "name": "stdout",
     "output_type": "stream",
     "text": [
      "Levels (in order): ['F' 'M']\n",
      "\n",
      "n_tokens\n",
      "[means] 'a': 149.58946578 'b': 138.72696526\n",
      "p-values:\n",
      "  [permutation]: 0.0\n",
      "  [classical]:   0.0\n",
      "\n"
     ]
    }
   ],
   "source": [
    "pos['n_tokens'] = pos.sum(axis=1)\n",
    "pos_by_split(df_0, pos, 'sex', ['n_tokens'], print_levels=True)"
   ]
  },
  {
   "cell_type": "markdown",
   "metadata": {},
   "source": [
    "### Profanity and Slang"
   ]
  },
  {
   "cell_type": "code",
   "execution_count": 5,
   "metadata": {},
   "outputs": [
    {
     "name": "stdout",
     "output_type": "stream",
     "text": [
      "0.0600098191019\n",
      "profanity\n",
      "[means] 'a': 0.05815862 'b': 0.06125739\n",
      "p-values:\n",
      "  [permutation]: 0.1439\n",
      "  [classical]:   0.1390202\n",
      "\n"
     ]
    }
   ],
   "source": [
    "profane = load_words('data/profane.txt')\n",
    "profanity = pd.DataFrame(contains(profane, df_0.essay0),\n",
    "                         columns=['profanity'])\n",
    "print(profanity.profanity.sum() / profanity.shape[0])\n",
    "pos_by_split(df_0, profanity, 'sex', ['profanity'])"
   ]
  },
  {
   "cell_type": "code",
   "execution_count": 6,
   "metadata": {},
   "outputs": [
    {
     "ename": "FileNotFoundError",
     "evalue": "[Errno 2] No such file or directory: 'data/slang.txt'",
     "output_type": "error",
     "traceback": [
      "\u001b[1;31m---------------------------------------------------------------------------\u001b[0m",
      "\u001b[1;31mFileNotFoundError\u001b[0m                         Traceback (most recent call last)",
      "\u001b[1;32m<ipython-input-6-f230e0426f09>\u001b[0m in \u001b[0;36m<module>\u001b[1;34m()\u001b[0m\n\u001b[1;32m----> 1\u001b[1;33m \u001b[0mslang\u001b[0m \u001b[1;33m=\u001b[0m \u001b[0mload_words\u001b[0m\u001b[1;33m(\u001b[0m\u001b[1;34m'data/slang.txt'\u001b[0m\u001b[1;33m)\u001b[0m\u001b[1;33m\u001b[0m\u001b[0m\n\u001b[0m\u001b[0;32m      2\u001b[0m slang = pd.DataFrame(contains(slang, df_0.essay0),\n\u001b[0;32m      3\u001b[0m                      columns=['slang'])\n\u001b[0;32m      4\u001b[0m \u001b[0mprint\u001b[0m\u001b[1;33m(\u001b[0m\u001b[0mslang\u001b[0m\u001b[1;33m.\u001b[0m\u001b[0mslang\u001b[0m\u001b[1;33m.\u001b[0m\u001b[0msum\u001b[0m\u001b[1;33m(\u001b[0m\u001b[1;33m)\u001b[0m \u001b[1;33m/\u001b[0m \u001b[0mslang\u001b[0m\u001b[1;33m.\u001b[0m\u001b[0mshape\u001b[0m\u001b[1;33m[\u001b[0m\u001b[1;36m0\u001b[0m\u001b[1;33m]\u001b[0m\u001b[1;33m)\u001b[0m\u001b[1;33m\u001b[0m\u001b[0m\n\u001b[0;32m      5\u001b[0m \u001b[0mpos_by_split\u001b[0m\u001b[1;33m(\u001b[0m\u001b[0mdf_0\u001b[0m\u001b[1;33m,\u001b[0m \u001b[0mslang\u001b[0m\u001b[1;33m,\u001b[0m \u001b[1;34m'sex'\u001b[0m\u001b[1;33m,\u001b[0m \u001b[1;33m[\u001b[0m\u001b[1;34m'slang'\u001b[0m\u001b[1;33m]\u001b[0m\u001b[1;33m)\u001b[0m\u001b[1;33m\u001b[0m\u001b[0m\n",
      "\u001b[1;32mD:\\Dropbox\\Repositories\\persp-research_S19\\okcupid\\utils\\lexical_features.py\u001b[0m in \u001b[0;36mload_words\u001b[1;34m(path)\u001b[0m\n\u001b[0;32m    221\u001b[0m     \"\"\"\n\u001b[0;32m    222\u001b[0m     \u001b[1;32massert\u001b[0m \u001b[0misinstance\u001b[0m\u001b[1;33m(\u001b[0m\u001b[0mpath\u001b[0m\u001b[1;33m,\u001b[0m \u001b[0mstr\u001b[0m\u001b[1;33m)\u001b[0m\u001b[1;33m\u001b[0m\u001b[0m\n\u001b[1;32m--> 223\u001b[1;33m     \u001b[1;32mwith\u001b[0m \u001b[0mopen\u001b[0m\u001b[1;33m(\u001b[0m\u001b[0mpath\u001b[0m\u001b[1;33m,\u001b[0m \u001b[1;34m'r'\u001b[0m\u001b[1;33m)\u001b[0m \u001b[1;32mas\u001b[0m \u001b[0mf\u001b[0m\u001b[1;33m:\u001b[0m\u001b[1;33m\u001b[0m\u001b[0m\n\u001b[0m\u001b[0;32m    224\u001b[0m         \u001b[1;32mreturn\u001b[0m \u001b[0mlist\u001b[0m\u001b[1;33m(\u001b[0m\u001b[0mset\u001b[0m\u001b[1;33m(\u001b[0m\u001b[1;33m[\u001b[0m\u001b[0mw\u001b[0m\u001b[1;33m.\u001b[0m\u001b[0mrstrip\u001b[0m\u001b[1;33m(\u001b[0m\u001b[1;33m)\u001b[0m \u001b[1;32mfor\u001b[0m \u001b[0mw\u001b[0m \u001b[1;32min\u001b[0m \u001b[0mf\u001b[0m\u001b[1;33m.\u001b[0m\u001b[0mreadlines\u001b[0m\u001b[1;33m(\u001b[0m\u001b[1;33m)\u001b[0m\u001b[1;33m]\u001b[0m\u001b[1;33m)\u001b[0m\u001b[1;33m)\u001b[0m\u001b[1;33m\u001b[0m\u001b[0m\n\u001b[0;32m    225\u001b[0m \u001b[1;33m\u001b[0m\u001b[0m\n",
      "\u001b[1;31mFileNotFoundError\u001b[0m: [Errno 2] No such file or directory: 'data/slang.txt'"
     ]
    }
   ],
   "source": [
    "slang = load_words('data/slang.txt')\n",
    "slang = pd.DataFrame(contains(slang, df_0.essay0),\n",
    "                     columns=['slang'])\n",
    "print(slang.slang.sum() / slang.shape[0])\n",
    "pos_by_split(df_0, slang, 'sex', ['slang'])"
   ]
  },
  {
   "cell_type": "markdown",
   "metadata": {},
   "source": [
    "### Adjectives, Nouns, and Verbs"
   ]
  },
  {
   "cell_type": "code",
   "execution_count": 7,
   "metadata": {},
   "outputs": [
    {
     "name": "stdout",
     "output_type": "stream",
     "text": [
      "ADJ\n",
      "[means] 'a': 0.10614445 'b': 0.10162557\n",
      "p-values:\n",
      "  [permutation]: 0.0\n",
      "  [classical]:   0.0\n",
      "\n",
      "NOUN\n",
      "[means] 'a': 0.18651103 'b': 0.18868403\n",
      "p-values:\n",
      "  [permutation]: 0.0\n",
      "  [classical]:   3.163e-05\n",
      "\n",
      "VERB\n",
      "[means] 'a': 0.18277245 'b': 0.18272425\n",
      "p-values:\n",
      "  [permutation]: 0.9122\n",
      "  [classical]:   0.90974631\n",
      "\n"
     ]
    }
   ],
   "source": [
    "pos_by_split(df_0, pos_norm, 'sex', ['ADJ', 'NOUN', 'VERB'])"
   ]
  },
  {
   "cell_type": "markdown",
   "metadata": {},
   "source": [
    "### Tokens"
   ]
  },
  {
   "cell_type": "code",
   "execution_count": 21,
   "metadata": {},
   "outputs": [],
   "source": [
    "df_short = subset_df(df, 'height_group', ['short'])\n",
    "df_notshort = subset_df(df, 'height_group', ['not_short'])\n",
    "tagged_short = tag_corpus(df_short.essay0)\n",
    "tagged_nshort = tag_corpus(df_notshort.essay0)"
   ]
  },
  {
   "cell_type": "code",
   "execution_count": 40,
   "metadata": {},
   "outputs": [],
   "source": [
    "#Education\n",
    "df_educ = subset_df(df, 'edu', ['HS_or_less'])\n",
    "df_noteduc = subset_df(df, 'edu', ['more_than_HS'])\n",
    "tagged_educ = tag_corpus(df_educ.essay0)\n",
    "tagged_noteduc = tag_corpus(df_noteduc.essay0)"
   ]
  },
  {
   "cell_type": "code",
   "execution_count": 7,
   "metadata": {},
   "outputs": [
    {
     "ename": "NameError",
     "evalue": "name 'df_0' is not defined",
     "output_type": "error",
     "traceback": [
      "\u001b[1;31m---------------------------------------------------------------------------\u001b[0m",
      "\u001b[1;31mNameError\u001b[0m                                 Traceback (most recent call last)",
      "\u001b[1;32m<ipython-input-7-afda042931fc>\u001b[0m in \u001b[0;36m<module>\u001b[1;34m()\u001b[0m\n\u001b[1;32m----> 1\u001b[1;33m \u001b[0mf\u001b[0m \u001b[1;33m=\u001b[0m \u001b[0msubset_df\u001b[0m\u001b[1;33m(\u001b[0m\u001b[0mdf_0\u001b[0m\u001b[1;33m,\u001b[0m \u001b[1;34m'sex'\u001b[0m\u001b[1;33m,\u001b[0m \u001b[1;33m[\u001b[0m\u001b[1;34m'F'\u001b[0m\u001b[1;33m]\u001b[0m\u001b[1;33m)\u001b[0m\u001b[1;33m\u001b[0m\u001b[0m\n\u001b[0m\u001b[0;32m      2\u001b[0m \u001b[0mm\u001b[0m \u001b[1;33m=\u001b[0m \u001b[0msubset_df\u001b[0m\u001b[1;33m(\u001b[0m\u001b[0mdf_0\u001b[0m\u001b[1;33m,\u001b[0m \u001b[1;34m'sex'\u001b[0m\u001b[1;33m,\u001b[0m \u001b[1;33m[\u001b[0m\u001b[1;34m'M'\u001b[0m\u001b[1;33m]\u001b[0m\u001b[1;33m)\u001b[0m\u001b[1;33m\u001b[0m\u001b[0m\n\u001b[0;32m      3\u001b[0m \u001b[1;33m\u001b[0m\u001b[0m\n\u001b[0;32m      4\u001b[0m \u001b[0mtagged_f\u001b[0m \u001b[1;33m=\u001b[0m \u001b[0mtag_corpus\u001b[0m\u001b[1;33m(\u001b[0m\u001b[0mf\u001b[0m\u001b[1;33m.\u001b[0m\u001b[0messay0\u001b[0m\u001b[1;33m)\u001b[0m\u001b[1;33m\u001b[0m\u001b[0m\n\u001b[0;32m      5\u001b[0m \u001b[0mtagged_m\u001b[0m \u001b[1;33m=\u001b[0m \u001b[0mtag_corpus\u001b[0m\u001b[1;33m(\u001b[0m\u001b[0mm\u001b[0m\u001b[1;33m.\u001b[0m\u001b[0messay0\u001b[0m\u001b[1;33m)\u001b[0m\u001b[1;33m\u001b[0m\u001b[0m\n",
      "\u001b[1;31mNameError\u001b[0m: name 'df_0' is not defined"
     ]
    }
   ],
   "source": [
    "#Tagging complete\n",
    "#f = subset_df(df_0, 'sex', ['F'])\n",
    "#m = subset_df(df_0, 'sex', ['M'])\n",
    "#tagged_f = tag_corpus(f.essay0)\n",
    "#tagged_m = tag_corpus(m.essay0)"
   ]
  },
  {
   "cell_type": "markdown",
   "metadata": {},
   "source": [
    "#### Adjectives"
   ]
  },
  {
   "cell_type": "code",
   "execution_count": 9,
   "metadata": {
    "scrolled": true
   },
   "outputs": [
    {
     "name": "stdout",
     "output_type": "stream",
     "text": [
      "my | happy | independent | favorite | sweet | silly | important | passionate | warm | amazing | beautiful | adventurous | creative | loyal | social\n",
      "\n",
      "that | nice | more | few | other | most | its | cool | interesting | your | easy | good | which | much | last\n"
     ]
    }
   ],
   "source": [
    "top_terms(tagged_f, tagged_m, 'ADJ', diff_prop, 15)"
   ]
  },
  {
   "cell_type": "code",
   "execution_count": 10,
   "metadata": {},
   "outputs": [
    {
     "name": "stdout",
     "output_type": "stream",
     "text": [
      "independent | sweet | my | sassy | silly | happy | warm | favorite | girly | fabulous\n",
      "\n",
      "nice | cool | its | that | few | interesting | martial | most | masculine | more\n"
     ]
    }
   ],
   "source": [
    "top_terms(tagged_f, tagged_m, 'ADJ', log_odds_ratio, 10)"
   ]
  },
  {
   "cell_type": "markdown",
   "metadata": {},
   "source": [
    "#### Nouns"
   ]
  },
  {
   "cell_type": "code",
   "execution_count": 11,
   "metadata": {},
   "outputs": [
    {
     "name": "stdout",
     "output_type": "stream",
     "text": [
      "girl | family | who | yoga | men | gal | heels | love | dancing | friends\n",
      "\n",
      "guy | computer | engineer | guitar | sports | software | women | video | technology | geek\n"
     ]
    }
   ],
   "source": [
    "top_terms(tagged_f, tagged_m, 'NOUN', log_odds_ratio, 10)"
   ]
  },
  {
   "cell_type": "markdown",
   "metadata": {},
   "source": [
    "#### Verbs"
   ]
  },
  {
   "cell_type": "code",
   "execution_count": 12,
   "metadata": {},
   "outputs": [
    {
     "name": "stdout",
     "output_type": "stream",
     "text": [
      "love | am | laugh | laughing | dancing | adore | loving | dance | appreciate | being\n",
      "\n",
      "m | was | play | playing | laid | 'll | working | hit | moved | been\n"
     ]
    }
   ],
   "source": [
    "top_terms(tagged_f, tagged_m, 'VERB', log_odds_ratio, 10)"
   ]
  },
  {
   "cell_type": "markdown",
   "metadata": {},
   "source": [
    "## Semantic"
   ]
  },
  {
   "cell_type": "code",
   "execution_count": 22,
   "metadata": {},
   "outputs": [],
   "source": [
    "specs = {'stop_words' : 'english', 'ngram_range' : (1, 3), 'min_df' : 0.005}"
   ]
  },
  {
   "cell_type": "markdown",
   "metadata": {},
   "source": [
    "### Essay 0"
   ]
  },
  {
   "cell_type": "markdown",
   "metadata": {},
   "source": [
    "#### Text Representation"
   ]
  },
  {
   "cell_type": "code",
   "execution_count": 23,
   "metadata": {},
   "outputs": [],
   "source": [
    "counts, tfidf, vocab = feature_vectors(df.essay0, specs)"
   ]
  },
  {
   "cell_type": "code",
   "execution_count": 24,
   "metadata": {},
   "outputs": [
    {
     "data": {
      "text/plain": [
       "2615"
      ]
     },
     "execution_count": 24,
     "metadata": {},
     "output_type": "execute_result"
    }
   ],
   "source": [
    "len(vocab)"
   ]
  },
  {
   "cell_type": "markdown",
   "metadata": {},
   "source": [
    "#### Clustering"
   ]
  },
  {
   "cell_type": "code",
   "execution_count": 25,
   "metadata": {
    "scrolled": false
   },
   "outputs": [
    {
     "name": "stdout",
     "output_type": "stream",
     "text": [
      "25\n",
      "Group 0:\n",
      "\n",
      " | \n",
      " br \n",
      " | \n",
      " br | world | 've | way | people | think | self | make | little | best | long | believe | kind | day | bit | feel | open | person | better | need | man | right | relationship | amp | want | art | come | strong | read | important | great | 'll | creative | interested | times | mind | lot | tend | old | different | high | look | heart | big | quite | place | probably | thing\n",
      "\n",
      "Group 1:\n",
      "class=\"ilink | href= | href= \n",
      " | class=\"ilink href= \n",
      " | class=\"ilink href= | /interests?i | href= \n",
      " /interests?i | \n",
      " /interests?i | \n",
      " | class=\"ilink \n",
      " | \n",
      " href=\"/interests?i | class=\"ilink \n",
      " href=\"/interests?i | href=\"/interests?i | love class=\"ilink | love class=\"ilink href= | like class=\"ilink | \n",
      " class=\"ilink href= | 'm class=\"ilink | \n",
      " br \n",
      " | \n",
      " br | \n",
      " ilink | ilink | class= \n",
      " ilink | class= | class= \n",
      " | \n",
      " ilink href=\"/interests?i | ilink href=\"/interests?i | interested | probably | strong | \n",
      " things | enjoy |   | interests | reading | things | love | -- | non | makes | computer | b | american | \n",
      " strong | 'd | really | bit | geek | open | time\n",
      "\n",
      "Group 2:\n",
      "br | br \n",
      " | \n",
      " | \n",
      " br | \n",
      " br \n",
      " | br \n",
      " br | br \n",
      " 'm | \n",
      " 'm | br \n",
      " love | br \n",
      " like | br \n",
      " 've | <br \n",
      " br | br \n",
      " enjoy | \n",
      " like | \n",
      " love | it.<br \n",
      " br | <br \n",
      " | <br | me.<br \n",
      " br | br \n",
      " n't | it.<br | it.<br \n",
      " | \n",
      " 've | br \n",
      " work | me.<br \n",
      " | br \n",
      " think | me.<br | br \n",
      " want | life.<br \n",
      " br | time.<br \n",
      " br | br \n",
      " really | br \n",
      " just | br \n",
      " grew | time.<br \n",
      " | time.<br | br \n",
      " things | \n",
      " enjoy | br \n",
      " looking | life.<br | life.<br \n",
      " | ... <br | ... <br \n",
      " | br \n",
      " 'll | br \n",
      " 's | br \n",
      " live | 1 | br \n",
      " try | br \n",
      " oh | br \n",
      " favorite | br \n",
      " good\n",
      "\n",
      "Group 3:\n",
      "san | francisco | san francisco | moved san | moved san francisco | francisco \n",
      " | san francisco \n",
      " | city | \n",
      " | living san | living | living san francisco | moved | \n",
      " san | san \n",
      " | \n",
      " san francisco | \n",
      " francisco | san \n",
      " francisco | just moved san | diego | lived | live | native | san diego | just moved | grew | recently | year | lived san | currently | \n",
      " city | recently moved | raised san | working | university | years | originally | explore | art | city \n",
      " | hi | home | \n",
      " living | exploring | state | 've lived | los | york | offer | work\n",
      "\n",
      "Group 4:\n",
      "'m | \n",
      " 'm | 'm \n",
      " | br \n",
      " 'm | pretty | 'm pretty | guy | 've | 'm really | 'm looking | \n",
      " | really | think 'm | 'm just | nerd | laid | say 'm | 'm working | shy | \n",
      " 'm pretty | 'm open | 'm trying | bit | 'm bit | 'm kind | 'm big | usually | person | kind | \n",
      " 'm looking | 'm going | sure | 'll | big | hi 'm | 'm good | life 'm | 'm passionate | 'm laid | 'd | working | 'm usually | 'm nice | time 'm | geek | happy | 'm happy | 'm doing | things 'm | guy 'm\n",
      "\n",
      "Group 5:\n",
      "new | things | new things | trying | trying new | try | new \n",
      " | \n",
      " | things \n",
      " | places | try new | \n",
      " new | new places | \n",
      " things | trying new things | learning | try new things | new things \n",
      " | exploring | learning new | open | york | new york | learning new things | learn | new \n",
      " things | enjoy | new friends | city | explore | restaurants | experiences | meeting | \n",
      " trying | meeting new | travel | exploring new | learn new | different | doing | trying \n",
      " | adventures | new experiences | traveling | like try | new restaurants | friends | explore new | looking new | \n",
      " try\n",
      "\n",
      "Group 6:\n",
      "... | <br | <br \n",
      " | ... <br \n",
      " | ... <br | <br \n",
      " br | ... \n",
      " | \n",
      " ... | .... | ... 'm | ... love | ... like | ... just | i'm | amp | ... 's | br \n",
      " ... | ..... | maybe | .... <br | .... <br \n",
      " | come | oh | later | guess | yeah | \n",
      " | nt | say | self | summary | soon | 'll | summarize | progress | dating | write | profile | hate | lets | yes | online | ok | wait | sure | bit | self summary | right | need | stuff\n",
      "\n",
      "Group 7:\n",
      "just | know | ask | want | \n",
      " just | just ask | want know | just \n",
      " | just moved | 'm just | know \n",
      " | know just | message | \n",
      " want | trying | 'll | \n",
      " know | wanna | :) | really | want \n",
      " | just looking | say | \n",
      " want know | just want | moved | just like | questions | u | br \n",
      " just | ask \n",
      " | guy | hit | nt | hang | feel free | just got | feel | thing | send | free | profile | chill | just moved san | site | lol | cool | hi | 's just | getting\n",
      "\n",
      "Group 8:\n",
      "people | meet | new people | meet new | new | meet new people | people \n",
      " | meeting | meeting new | \n",
      " people | meeting new people | looking meet | looking meet new | new people \n",
      " | \n",
      " meet | \n",
      " | meet people | interesting | meet \n",
      " | person | new \n",
      " people | friends | like meet | \n",
      " meeting | interesting people | love meeting | new friends | people 'm | meeting people | love meet | new \n",
      " | \n",
      " new | people laugh | cool | outgoing | interested | people like | make people | make | making | people love | want meet | hang | open | way | like people | meeting \n",
      " | laugh | shy | site\n",
      "\n",
      "Group 9:\n",
      "m | nt | \n",
      " m | m \n",
      " | s | u | \n",
      " | chill | lol | guy | person | pretty | ve | say | really | laid | nice | hi | alot | know | shy | years old | kinda | old | lets | n | hard | .... | names | wanna | hit | haha | real | cool | type | talk | message | hey | ..... | d | currently | single | party | dude | outgoing | school | sure | good time | cause | funny\n",
      "\n",
      "Group 10:\n",
      "like | \n",
      " like | like \n",
      " | br \n",
      " like | \n",
      " | things | movies | 'd like | stuff | think | music | play | 'd | like think | things like | really like | feel like | really | games | watch | n't like | people | like going | feel | like people | like meet | read | lot | like make | sports | people like | like play | going | like travel | cook | like laugh | playing | like fun | hang | like things | drink | listen | watching | like good | pretty | eat | make | just like | tv | laugh\n",
      "\n",
      "Group 11:\n",
      "love | \n",
      " love | love \n",
      " | music | \n",
      " | br \n",
      " love | travel | outdoors | laugh | love travel | love music | sports | food | love outdoors | play | art | love laugh | cook | live | hiking | love life | especially | music \n",
      " | movies | city | love cook | love going | \n",
      " music | \n",
      " love travel | life love | nature | playing | family | love sports | love traveling | beach | love meet | love good | great | \n",
      " outdoors | really love | dance | traveling | big | making | dancing | eat | going | camping | exploring\n",
      "\n",
      "Group 12:\n",
      "easy | going | easy going | 'm easy | 'm easy going | going guy | easy going guy | going \n",
      " | guy | \n",
      " easy | \n",
      " easy going | pretty easy | pretty easy going | person | laid | \n",
      " going | open | pretty | \n",
      " | earth | easy \n",
      " | minded | funny | open minded | love going | like going | 'm pretty | friendly | enjoy | 'm going | likes | enjoy going | simple | guy likes | honest | try | loves | drama | guy like | movies | say | athletic | enjoys | sports | beach | adventurous | \n",
      " pretty | gym | \n",
      " open | little\n",
      "\n",
      "Group 13:\n",
      "looking | 'm looking | looking \n",
      " | \n",
      " looking | looking meet | meet | relationship | guy looking | woman | share | girl | \n",
      " 'm looking | just looking | \n",
      " | 'm looking \n",
      " | partner | guy | friends | br \n",
      " looking | nice | new friends | forward | date | looking forward | man | special | single | looking new | 'm \n",
      " looking | looking fun | hang | term | looking meet new | guys | friend | long term | explore | open | lady | right | \n",
      " relationship | long | city | dating | enjoys | dates | wants | intelligent | recently | hi\n",
      "\n",
      "Group 14:\n",
      "area | bay | bay area | area \n",
      " | \n",
      " bay | bay area \n",
      " | \n",
      " bay area | moved bay | \n",
      " | moved bay area | native | area native | bay area native | lived | bay \n",
      " | \n",
      " area | living | grew | 'm bay | east bay | transplant | raised bay | bay \n",
      " area | east | recently | moved | offer | new | years | moving | explore | exploring | berkeley | year | place | 've lived | college | recently moved | recent | live | home | places | currently | la | hiking | great | originally | europe | weather | oakland\n",
      "\n",
      "Group 15:\n",
      "life | life \n",
      " | \n",
      " life | live | live life | enjoy | things life | enjoy life | fullest | living | enjoying | share | simple | things | enjoying life | positive | short | person | believe | \n",
      " | make | life fullest | family | want | world | try | living life | life 's | experiences | life 'm | happy | love life | best | life short | day | \n",
      " live | important | offer | life like | live \n",
      " | moment | life love | special | passionate | great | experience | better | partner | seriously | simple things\n",
      "\n",
      "Group 16:\n",
      "good | humor | sense | \n",
      " good | sense humor | good \n",
      " | food | good sense | good time | good food | good sense humor | great | conversation | humor \n",
      " | laugh | sense humor \n",
      " | \n",
      " | pretty | 'm good | good conversation | \n",
      " humor | sense \n",
      " | person | enjoy good | company | good company | sarcastic | sense \n",
      " humor | great sense | like good | listener | good people | \n",
      " sense | love good | wine | \n",
      " sense humor | music | good friends | great sense humor | dry | good listener | pretty good | times | \n"
     ]
    },
    {
     "name": "stdout",
     "output_type": "stream",
     "text": [
      " good time | friends | friend | having good | earth | beer | honest\n",
      "\n",
      "Group 17:\n",
      "moved | years | sf | \n",
      " | ago | school | coast | east | city | years ago | east coast | grew | year | moved sf | went | 've | lived | college | originally | california | recently | \n",
      " years | west | years \n",
      " | moved \n",
      " | living | just moved | work | \n",
      " moved | spent | nyc | job | grad | recently moved | months | la | sf \n",
      " | west coast | ago \n",
      " | grad school | went school | 2 | york | school \n",
      " | year ago | new york | 'm originally | 3 | 4 | couple\n",
      "\n",
      "Group 18:\n",
      "time | \n",
      " | enjoy | work | friends | spend | time \n",
      " | working | hard | \n",
      " enjoy | \n",
      " time | playing | family | watching | play | \n",
      " friends | music | movies | spending | sports | hiking | hanging | lot | free | enjoy \n",
      " | outdoors | spend time | games | traveling | spending time | free time | going | reading | friends \n",
      " | \n",
      " work | cooking | active | work \n",
      " | work hard | activities | home | camping | friends family | running | great | really | day | doing | hanging friends | beach\n",
      "\n",
      "Group 19:\n",
      "href=\"/interests?i | class=\"ilink | class=\"ilink href=\"/interests?i | \n",
      " class=\"ilink | \n",
      " class=\"ilink href=\"/interests?i | \n",
      " | \n",
      " ilink href=\"/interests?i | ilink href=\"/interests?i | class= | class= \n",
      " | ilink | class= \n",
      " ilink | \n",
      " ilink | class=\"ilink \n",
      " | class=\"ilink \n",
      " href=\"/interests?i | \n",
      " href=\"/interests?i | br \n",
      " class=\"ilink | 'm class=\"ilink | like class=\"ilink | \n",
      " class=\"ilink href= | love class=\"ilink | \n",
      " br \n",
      " | \n",
      " br | 've | play | especially | enjoy | -- | occasionally | make | getting | prefer | watch | means | body | years | geek | good | love \n",
      " | play \n",
      " | car | lover | doing | long | end | strong | em | 'm \n",
      " | passionate | used\n",
      "\n",
      "Group 20:\n",
      "'s | 's \n",
      " | \n",
      " 's | let | let 's | 've | \n",
      " | 're | think | 's just | really | 'll | br \n",
      " 's | \n",
      " let | life 's | say | \n",
      " let 's | pretty | 'd | thing | 's pretty | think 's | way | 's good | 's really | \n",
      " 've | right | people 's | got | 's hard | 's 'm | ... 's | know 's | profile | -- | 's fun | \n",
      " 're | guess | 's like | great | 's time | hard | best | summary | 've \n",
      " | 's great | self | maybe | little | better\n",
      "\n",
      "Group 21:\n",
      "fun | guy | loving | fun loving | \n",
      " fun | fun \n",
      " | 'm fun | having fun | funny | nice | loves | outgoing | likes | having | person | adventurous | earth | smart | like fun | caring | looking fun | laid | honest | hard | guy \n",
      " | kind | guy looking | minded | br \n",
      " fun | laugh | open minded | nice guy | guy likes | chill | loyal | hard working | passionate | intelligent | enjoys | open | friendly | spontaneous | girl | creative | athletic | \n",
      " guy | friends | kind guy | loving \n",
      " | person \n",
      "\n",
      "\n",
      "Group 22:\n",
      "n't | ca | ca n't | \n",
      " n't | n't \n",
      " | \n",
      " | know | really | does | does n't | n't know | say | wo | wo n't | think | n't like | \n",
      " ca | n't really | \n",
      " ca n't | did | did n't | things | people | want | seriously | know \n",
      " | mean | n't think | br \n",
      " n't | make | probably | 're | 'll | n't want | try | \n",
      " does | lot | ca n't \n",
      " | care | \n",
      " really | time | \n",
      " does n't | need | tell | hate | \n",
      " know | right | n't know \n",
      " | mind | laugh\n",
      "\n",
      "Group 23:\n",
      ".. | .. \n",
      " | .. <br \n",
      " | .. <br | <br | <br \n",
      " | <br \n",
      " br | \n",
      " | lol | .... | :) | n | u | ..... | hey | summary | nt | self | ... <br | ... <br \n",
      " | self summary | ready | single | lets | .... <br | .... <br \n",
      " | wanna | old | i'm | play | haha | talk | talking | make | years | work | hit | party | mixed | happy | place | d | funny | kinda | progress | ladies | guess | ask | originally | boring\n",
      "\n",
      "Group 24:\n",
      "born | raised | born raised | raised bay | raised san | \n",
      " born | california | \n",
      " | \n",
      " born raised | college | br \n",
      " born | raised \n",
      " | sf | went | school | amp | \n",
      " raised | oakland | family | lived | bay | graduated | currently | sports | cal | berkeley | college \n",
      " | san | came | northern | american | traveling | ca | young | went college | years | \n",
      " california | \n",
      " college | went school | university | south | studied | chinese | midwest | uc | southern | old | boston | mother | california \n",
      "\n",
      "\n",
      "\n"
     ]
    }
   ],
   "source": [
    "K = 25\n",
    "nmf_inspect(tfidf, vocab, k_vals=[K], n_words=50)"
   ]
  },
  {
   "cell_type": "code",
   "execution_count": 27,
   "metadata": {},
   "outputs": [],
   "source": [
    "labels = ['meet & greet', 'the city', 'enthusiastic', 'straight talk', 'about me', 'novelty',\n",
    "          'seeking', 'carefree', 'casual', 'enjoy', 'transplant', 'nots', 'moments',\n",
    "          'personality', 'amusing', 'review', 'region', 'career-focused', 'locals',\n",
    "          'unconstrained', 'active', 'creative', 'carpe diem', 'cheerful', 'jet setter']"
   ]
  },
  {
   "cell_type": "code",
   "execution_count": 28,
   "metadata": {},
   "outputs": [],
   "source": [
    "df['group'] = nmf_labels(tfidf, k=K)"
   ]
  },
  {
   "cell_type": "code",
   "execution_count": 62,
   "metadata": {},
   "outputs": [],
   "source": [
    "def lollipop_chart(df, demographic, colors=['LightGray', 'Black'], topic_labels=None):\n",
    "    \"\"\"Create the lollipop plots for the percentage of users in each NMF group\n",
    "\n",
    "    Parameters\n",
    "    ----------\n",
    "    df : pd.DataFrame\n",
    "        Should be created using `group_pct()` in `utils/splits.py`\n",
    "    demographic : str\n",
    "        Valid column name\n",
    "    colors : list\n",
    "        Valid Matplotlib colors codes or names (e.g., hex)\n",
    "    topic_labels : list, default None\n",
    "        x-axis labels\n",
    "\n",
    "    Returns\n",
    "    -------\n",
    "    None\n",
    "    \"\"\"\n",
    "    # plot\n",
    "    fig, ax = plt.subplots(figsize=(12, 8))\n",
    "    # lines\n",
    "    lineval = df.groupby('group')['pct'].max()\n",
    "    for i, g in enumerate(lineval):\n",
    "        plt.plot([i, i], [0, g], linewidth=1,\n",
    "                 color='Gray', zorder=1, alpha=0.5)\n",
    "    # markers\n",
    "    for i, d in enumerate(df[demographic].unique()):\n",
    "        tdf = df[df[demographic]==d]\n",
    "        plt.scatter(range(len(tdf)), tdf.pct,\n",
    "                    s=100, color=colors[i], edgecolor='None',\n",
    "                    lw=1, zorder=2, label=d.capitalize())\n",
    "    # plot options\n",
    "    plt.xlim(-0.5, len(tdf)-0.5)\n",
    "    plt.ylim(0)\n",
    "    plt.ylabel('Proportion of Users in Each Topic', fontsize=14)\n",
    "    plt.xlabel('Inferred Topic in Profile', fontsize=14)\n",
    "    plt.title('Differences in Choice of Topics On OkCupid Self-Introductions Across Short and Non-Short Men')\n",
    "    plt.gca().get_yaxis().set_major_formatter(\n",
    "        mpl.ticker.FuncFormatter(lambda y, p: format(y, '.0%')))\n",
    "    plt.tick_params(top='off', bottom='off', left='off', right='off')\n",
    "    ax.spines['top'].set_visible(False)\n",
    "    ax.spines['bottom'].set_color('DimGray')\n",
    "    ax.spines['left'].set_color('DimGray')\n",
    "    ax.spines['right'].set_visible(False)\n",
    "    plt.legend(loc='lower right', bbox_to_anchor=(0., 1.02, 1., .102),\n",
    "               title=\"Education Levels\", frameon=False,\n",
    "               ncol=3, scatterpoints=1)\n",
    "    if topic_labels:\n",
    "        plt.xticks(range(len(topic_labels)), topic_labels, rotation='vertical')"
   ]
  },
  {
   "cell_type": "code",
   "execution_count": 57,
   "metadata": {
    "scrolled": false
   },
   "outputs": [],
   "source": [
    "demog = 'edu'\n",
    "subset = subset_df(df, demog, ['HS_or_less', 'more_than_HS'])\n",
    "grouped = group_pct(subset, demog)\n"
   ]
  },
  {
   "cell_type": "code",
   "execution_count": 63,
   "metadata": {},
   "outputs": [
    {
     "name": "stderr",
     "output_type": "stream",
     "text": [
      "C:\\Users\\HP\\Anaconda3\\lib\\site-packages\\matplotlib\\cbook\\deprecation.py:107: MatplotlibDeprecationWarning: Passing one of 'on', 'true', 'off', 'false' as a boolean is deprecated; use an actual boolean (True/False) instead.\n",
      "  warnings.warn(message, mplDeprecation, stacklevel=1)\n",
      "C:\\Users\\HP\\Anaconda3\\lib\\site-packages\\matplotlib\\cbook\\deprecation.py:107: MatplotlibDeprecationWarning: Passing one of 'on', 'true', 'off', 'false' as a boolean is deprecated; use an actual boolean (True/False) instead.\n",
      "  warnings.warn(message, mplDeprecation, stacklevel=1)\n",
      "C:\\Users\\HP\\Anaconda3\\lib\\site-packages\\matplotlib\\cbook\\deprecation.py:107: MatplotlibDeprecationWarning: Passing one of 'on', 'true', 'off', 'false' as a boolean is deprecated; use an actual boolean (True/False) instead.\n",
      "  warnings.warn(message, mplDeprecation, stacklevel=1)\n",
      "C:\\Users\\HP\\Anaconda3\\lib\\site-packages\\matplotlib\\cbook\\deprecation.py:107: MatplotlibDeprecationWarning: Passing one of 'on', 'true', 'off', 'false' as a boolean is deprecated; use an actual boolean (True/False) instead.\n",
      "  warnings.warn(message, mplDeprecation, stacklevel=1)\n"
     ]
    },
    {
     "data": {
      "image/png": "[encoded data removed]",
      "text/plain": [
       "<Figure size 864x576 with 1 Axes>"
      ]
     },
     "metadata": {},
     "output_type": "display_data"
    }
   ],
   "source": [
    "lollipop_chart(grouped, demog, colors=['Purple', 'Cyan'], topic_labels=labels)"
   ]
  },
  {
   "cell_type": "code",
   "execution_count": null,
   "metadata": {},
   "outputs": [],
   "source": []
  },
  {
   "cell_type": "code",
   "execution_count": 42,
   "metadata": {},
   "outputs": [
    {
     "ename": "NameError",
     "evalue": "name 'lollipop' is not defined",
     "output_type": "error",
     "traceback": [
      "\u001b[1;31m---------------------------------------------------------------------------\u001b[0m",
      "\u001b[1;31mNameError\u001b[0m                                 Traceback (most recent call last)",
      "\u001b[1;32m<ipython-input-42-636dacb4dde4>\u001b[0m in \u001b[0;36m<module>\u001b[1;34m()\u001b[0m\n\u001b[0;32m      2\u001b[0m \u001b[0msubset\u001b[0m \u001b[1;33m=\u001b[0m \u001b[0msubset_df\u001b[0m\u001b[1;33m(\u001b[0m\u001b[0mdf\u001b[0m\u001b[1;33m,\u001b[0m \u001b[0mdemog\u001b[0m\u001b[1;33m,\u001b[0m \u001b[1;33m[\u001b[0m\u001b[1;34m'short'\u001b[0m\u001b[1;33m,\u001b[0m \u001b[1;34m'not_short'\u001b[0m\u001b[1;33m]\u001b[0m\u001b[1;33m)\u001b[0m\u001b[1;33m\u001b[0m\u001b[0m\n\u001b[0;32m      3\u001b[0m \u001b[0mgrouped\u001b[0m \u001b[1;33m=\u001b[0m \u001b[0mgroup_pct\u001b[0m\u001b[1;33m(\u001b[0m\u001b[0msubset\u001b[0m\u001b[1;33m,\u001b[0m \u001b[0mdemog\u001b[0m\u001b[1;33m)\u001b[0m\u001b[1;33m\u001b[0m\u001b[0m\n\u001b[1;32m----> 4\u001b[1;33m \u001b[0mlollipop\u001b[0m\u001b[1;33m(\u001b[0m\u001b[0mgrouped\u001b[0m\u001b[1;33m,\u001b[0m \u001b[0mdemog\u001b[0m\u001b[1;33m,\u001b[0m \u001b[0mcolors\u001b[0m\u001b[1;33m=\u001b[0m\u001b[1;33m[\u001b[0m\u001b[1;34m'Purple'\u001b[0m\u001b[1;33m,\u001b[0m \u001b[1;34m'Cyan'\u001b[0m\u001b[1;33m]\u001b[0m\u001b[1;33m,\u001b[0m \u001b[0mtopic_labels\u001b[0m\u001b[1;33m=\u001b[0m\u001b[0mlabels\u001b[0m\u001b[1;33m)\u001b[0m\u001b[1;33m\u001b[0m\u001b[0m\n\u001b[0m",
      "\u001b[1;31mNameError\u001b[0m: name 'lollipop' is not defined"
     ]
    }
   ],
   "source": [
    "\n",
    "demog = 'height_group'\n",
    "subset = subset_df(df, demog, ['short', 'not_short'])\n",
    "grouped = group_pct(subset, demog)\n",
    "lollipop(grouped, demog, colors=['Purple', 'Cyan'], topic_labels=labels)"
   ]
  },
  {
   "cell_type": "markdown",
   "metadata": {},
   "source": [
    "### Essay 4"
   ]
  },
  {
   "cell_type": "markdown",
   "metadata": {},
   "source": [
    "#### Text Representation"
   ]
  },
  {
   "cell_type": "code",
   "execution_count": 20,
   "metadata": {
    "collapsed": true
   },
   "outputs": [],
   "source": [
    "counts, tfidf, vocab = feature_vectors(df_4.essay4, specs)"
   ]
  },
  {
   "cell_type": "code",
   "execution_count": 21,
   "metadata": {},
   "outputs": [
    {
     "data": {
      "text/plain": [
       "2898"
      ]
     },
     "execution_count": 21,
     "metadata": {},
     "output_type": "execute_result"
    }
   ],
   "source": [
    "len(vocab)"
   ]
  },
  {
   "cell_type": "markdown",
   "metadata": {},
   "source": [
    "#### Clustering"
   ]
  },
  {
   "cell_type": "code",
   "execution_count": 22,
   "metadata": {
    "scrolled": false
   },
   "outputs": [
    {
     "name": "stdout",
     "output_type": "stream",
     "text": [
      "25\n",
      "Group 0:\n",
      "like | music like | movies like | really | really like | stuff | food like | things | like music | books like | like movies | n't like | like food | movies | lot | stuff like | like lot | like read | kind | comedies | like good | music | good | shows like | things like | like books | think | like reading | make | different | like watch | especially | old | like kinds | feel | like eat | like types | just | people | bands | pretty | feel like | funny | probably | like cook | eat | ones | nt | lots | metal\n",
      "\n",
      "Group 1:\n",
      "men | mad | mad men | arrested | development | arrested development | bad | breaking | breaking bad | rock | 30 | 30 rock | tv | parks | sunny | wire | dexter | shows | office | curb | sunny philadelphia | 's sunny | philadelphia | rec | parks rec | community | curb enthusiasm | enthusiasm | recreation | parks recreation | 's sunny philadelphia | daily | seinfeld | tv shows | archer | shows arrested | weeds | shows arrested development | colbert | louie | lost | classic | sopranos | classic rock | walking | walking dead | blood | report | friday night | night lights\n",
      "\n",
      "Group 2:\n",
      "love | food love | love food | love music | music love | love movies | love love | movies love | cook | love good | eat | food | love cook | love read | love eat | good | books love | live | movies | especially | just | love reading | music | really love | love sushi | dance | love books | going | love going | great | love types | horror | actually | food love food | love actually | try | love watching | cooking | comedies | just love | love live | love kinds | romantic | pray | wine | make | old | life | eat pray | pray love\n",
      "\n",
      "Group 3:\n",
      "favorite | favorite food | favorite movies | favorite books | favorite music | favorite movie | favorite book | favorite shows | favorite tv | time favorite | time | favorite foods | music favorite | include | favorite tv shows | favorite band | foods | food favorite | movies favorite | favorite authors | band | probably | books favorite | authors | author | favorite things | tv shows | favorite bands | movies | say | bands | shows | artists | genre | listen | hard | far | moment | tv | current | really | r&b | recent | pick | genres | hands | artist | series | color | second\n",
      "\n",
      "Group 4:\n",
      "sci | fi | sci fi | action | comedy | horror | fantasy | movies | drama | comedies | fi fantasy | sci fi fantasy | romantic | rock | action movies | films | classic | adventure | thrillers | metal | flicks | romance | romantic comedies | mystery | horror movies | novels | stuff | series | anime | suspense | chick | good | classic rock | dramas | fan | punk | genres | books | chick flicks | documentaries | pop | foreign | historical | occasional | history | classics | comic | movies like | movie | movies comedies\n",
      "\n",
      "Group 5:\n",
      "hop | hip | hip hop | rock | r&b | jazz | reggae | rap | pop | country | music hip | music hip hop | classic | old | hip hop r&b | hop r&b | soul | alternative | classic rock | music | old school | school | classical | indie | metal | funk | listen | blues | house | punk | electronic | oldies | dance | dubstep | techno | trance | folk | 90 | 90 's | latin | indie rock | salsa | comedy | alternative rock | electro | electronica | 80 | 90s | 80 's | action\n",
      "\n",
      "Group 6:\n",
      "'m | fan | 've | reading | pretty | 'll | food 'm | right | 'm big | really | 'm reading | big | currently | 'm pretty | music 'm | just | open | huge | good | big fan | 'm really | picky | listening | right 'm | going | 'm currently | 'm open | time | books 'm | 'm huge | movies 'm | stuff | probably | 'm big fan | comes | 'm picky | sucker | 'd | try | 'm sucker | say | eat | sure | lately | favorites | 'm fan | currently reading | bit | usually | think\n",
      "\n",
      "Group 7:\n",
      "bang | big bang | bang theory | theory | big bang theory | big | mother | met | met mother | shows | fan | big fan | tv | big lebowski | lebowski | friends | tv shows | house | half | office | kiss | 'm big | community | criminal minds | walking dead | minds | walking | criminal | ncis | new girl | bones | scrubs | men | dead | 500 days summer | 500 days | days summer | big fish | psych | dexter | 500 | inception | man | seinfeld | try | knight | csi | sherlock | movies big | burn notice\n",
      "\n",
      "Group 8:\n",
      "italian | thai | mexican | food | indian | chinese | japanese | sushi | french | vietnamese | mexican food | korean | thai indian | food italian | mexican italian | food thai | food mexican | thai food | italian mexican | indian thai | italian food | food sushi | american | food indian | indian food | ethiopian | mexican thai | mediterranean | thai italian | greek | bbq | thai mexican | indian mexican | asian | sushi thai | pizza | italian thai | thai chinese | chinese food | eastern | thai japanese | foods | middle eastern | thai vietnamese | seafood | chinese japanese | indian italian | jazz | sushi mexican | middle\n",
      "\n",
      "Group 9:\n",
      "n't | ca | ca n't | watch | really | tv | n't watch | watch tv | know | n't really | does | n't like | does n't | think | eat | n't watch tv | just | n't know | did | say | n't read | wo | wo n't | n't think | want | n't eat | did n't | movies n't | people | make | food n't | wait | 'll | time | shows n't | n't tv | favorites | tv n't | listen | really watch | 're | care | music n't | just n't | probably | thing | netflix | 'd | anymore | seen\n",
      "\n",
      "Group 10:\n",
      "harry | potter | harry potter | series | potter series | harry potter series | games | hunger games | hunger | books harry | books harry potter | girl | books | twilight | dragon | girl dragon | tattoo | dragon tattoo | girl dragon tattoo | glee | met | pride | prejudice | pride prejudice | harry met | sally | met sally | harry met sally | disney | vampire | lady | kill | trilogy | girls | gaga | kill mockingbird | mockingbird | lady gaga | love actually | princess | movies | friends | dark | lotr | grey | pop | anatomy | met mother | mother | adele\n",
      "\n",
      "Group 11:\n",
      "books | movies | food | music | shows | music food | books movies | good | movies music | movies shows | country | yes | shows music | dance | action | lots | kind | horror | favorite books | food love | comedy | house | pop | classical | rap | tv | ones | pizza | good food | spicy | type | taste | healthy | funny | asian | art | mood | music country | food food | food good | :) | food yes | action movies | movies good | horror movies | country food | jazz | live | eclectic | alchemist\n",
      "\n",
      "Group 12:\n",
      "sunshine | mind | eternal | eternal sunshine | spotless | spotless mind | sunshine spotless | sunshine spotless mind | eternal sunshine spotless | miss sunshine | little miss sunshine | little miss | amelie | miss | little | garden state | state | garden | lost | life | beautiful | translation | lost translation | beauty | darko | donnie | donnie darko | 500 | days summer | summer | 500 days | 500 days summer | radiohead | american beauty | royal | beautiful mind | memento | tenenbaums | royal tenenbaums | requiem | american | requiem dream | dream | movies | days | sleep | city | adaptation | sky | things\n",
      "\n",
      "Group 13:\n",
      "'s | 80 | 80 's | let | good | let 's | 90 | 90 's | life | 've | just | 70 | world | 70 's | 's good | time | man | guide | great | know | 60 | day | think | ender | 's just | 's game | ender 's | 's guide | 60 's | 's music | ender 's game | stuff | story | night | people | hard | food 's | got | 're | hitchhiker | hitchhiker 's | grey | yes | little | oh | pan | hitchhiker 's guide | way | galaxy | king\n",
      "\n",
      "Group 14:\n",
      "read | lot | read lot | 've | time | watch | listen | recently | books | read books | just | n't read | books read | 've read | lately | reading | love read | like read | recently read | eat | time read | usually | watch lot | nt | loved | favorites | book read | just read | tend | used | work | enjoyed | listen lot | watched | liked | stuff | times | really | best | read book | school | listening | fun | 'll | finished | magazines | books 've | pretty | lot movies | movies\n",
      "\n",
      "Group 15:\n",
      "list | just | 'll | long | ask | way | goes | list goes | things | try | favorites | far | know | time | talk | say | 'll try | tell | short | think | 'll just | conversation | later | come | forever | good | right | oh | person | let | category | meet | 're | start | seriously | probably | 'll eat | food 'll | taste | make | want | question | eclectic | :) | just finished | tastes | feel | going | 'd | finished\n",
      "\n",
      "Group 16:\n",
      "david | black | john | tom | radiohead | bob | life | yeah | brothers | man | beatles | keys | james | dylan | black keys | bowie | dead | young | la | band | smith | new | white | music | bob dylan | michael | boys | johnny | david bowie | arcade | cash | neil | old | vonnegut | waits | stones | little | sedaris | bon | tom waits | paul | cat | velvet | ray | death | davis | pink | iver | bon iver | johnny cash\n",
      "\n",
      "Group 17:\n",
      "star | lord | wars | rings | lord rings | star wars | trek | star trek | trilogy | series | matrix | princess | rings trilogy | lord rings trilogy | dark | bride | indiana | indiana jones | firefly | princess bride | movies | original | jones | park | battlestar | galactica | 2 | dead | battlestar galactica | knight | avatar | doctor | man | dark knight | galaxy | lotr | v | guide | lost | batman | 1 | books | world | war | 3 | scott | x | guide galaxy | monty | python\n",
      "\n",
      "Group 18:\n",
      "family | modern | modern family | guy | family guy | shows | tv | office | park | south | south park | mother | met mother | met | tv shows | girl | glee | simpsons | dad | house | american dad | law | law order | dexter | american | new girl | 30 | parks | friends | order | daily | watch | 30 rock | anatomy | colbert | hangover | grey | report | true | channel | true blood | colbert report | grey 's | entourage | 's anatomy | housewives | community | grey 's anatomy | blood | dragon\n",
      "\n",
      "Group 19:\n",
      "club | fight | fight club | shawshank | redemption | shawshank redemption | pulp fiction | pulp | fear | red | hot | loathing | fear loathing | peppers | red hot | vegas | chili | las | las vegas | chili peppers | american | hot chili | red hot chili | hot chili peppers | loathing las | fear loathing las | loathing las vegas | movies | dead | rye | catcher | catcher rye | park | lebowski | big lebowski | old | kill | big | suspects | usual | day | usual suspects | dark | movies shawshank | movies shawshank redemption | knight | american beauty | office | 2 | hangover\n",
      "\n",
      "Group 20:\n",
      "kinds | kinds music | love kinds | kinds food | like kinds | music | kinds movies | music kinds | food | listen | different | country | foods | comedy | music food | music country | especially | action | rap | mood | lots | movies | music especially | watch | music love | open | food especially | metal | depends | music listen | long | depends mood | heavy metal | drama | movies like | rock | nt | love | comedies | heavy | kind | picky | try | usually | music really | reader | music like | pop | country music | biographies\n",
      "\n",
      "Group 21:\n",
      "book | movie | favorite book | favorite movie | food | music | good | fav | book read | reading | great | best | read book | just | saw | finished | called | currently | m | right | time | buff | life | day | pick | seen | pizza | loved | reader | currently reading | just finished | sushi | comic | story | type | week | current | recent | watched | person | kind | :) | series | novel | night | alchemist | huge | food sushi | nt | better\n",
      "\n",
      "Group 22:\n",
      "enjoy | new | types | trying | reading | trying new | things | foods | types music | good | films | try | music | live | really enjoy | new things | different | restaurants | really | cooking | jazz | types food | favorites | enjoy reading | especially | try new | classical | watching | foreign | rock | going | variety | world | open | love trying | love trying new | live music | great | new restaurants | enjoy good | trying new things | time | listening | currently | love types | music enjoy | movies enjoy | new foods | include | wide\n",
      "\n",
      "Group 23:\n",
      "game | thrones | game thrones | 's game | ender | ender 's | ender 's game | walking | walking dead | blood | dead | games | true blood | series | true | currently | hunger | hunger games | dexter | song ice | ice | shows | song | boardwalk | currently reading | empire | boardwalk empire | breaking | breaking bad | tv | firefly | reading | wire | books | bad | battlestar | hbo | archer | galactica | battlestar galactica | fringe | community | sherlock | californication | dune | lost | shameless | girl | sons | new\n",
      "\n",
      "Group 24:\n",
      "fiction | non | non fiction | science | science fiction | fiction books | pulp fiction | pulp | read non | read non fiction | historical | non fiction books | history | historical fiction | films | books | documentaries | biographies | classical | jazz | foreign | read fiction | tend | reading | novels | prefer | especially | fantasy | philosophy | rock | usually | world | indie | folk | good | lots | stuff | foreign films | political | politics | classic | generally | independent | art | blues | live | psychology | electronic | tv | occasional\n",
      "\n",
      "\n"
     ]
    }
   ],
   "source": [
    "K = 25\n",
    "nmf_inspect(tfidf, vocab, k_vals=[K], n_words=50)"
   ]
  },
  {
   "cell_type": "code",
   "execution_count": 23,
   "metadata": {
    "collapsed": true
   },
   "outputs": [],
   "source": [
    "labels = ['like', 'TV-hits', 'enthusiastic', 'favorite-0', 'genres-movies', 'genres-music',\n",
    "          'misc-0', 'TV-comedies-0', 'genres-food', 'nots', 'teen', 'everything',\n",
    "          'movies-drama-0', 'time periods', 'avid', 'miscellaneous', 'music-rock',\n",
    "          'movies-sci-fi', 'TV-comedies-1', 'movies-drama-1', 'kinds', 'favorite-1',\n",
    "          'novelty', 'TV-drama', 'genres-books']"
   ]
  },
  {
   "cell_type": "code",
   "execution_count": 24,
   "metadata": {},
   "outputs": [],
   "source": [
    "df_4['group'] = nmf_labels(tfidf, k=K)"
   ]
  },
  {
   "cell_type": "code",
   "execution_count": 25,
   "metadata": {},
   "outputs": [
    {
     "data": {
      "image/png": "[encoded data removed]",
      "text/plain": [
       "<matplotlib.figure.Figure at 0x1e57d8e80>"
      ]
     },
     "metadata": {},
     "output_type": "display_data"
    }
   ],
   "source": [
    "demog = 'sex'\n",
    "subset = subset_df(df_4, demog, ['M', 'F'])\n",
    "grouped = group_pct(subset, demog)\n",
    "lollipop_paper(grouped, demog, topic_labels=labels)"
   ]
  },
  {
   "cell_type": "markdown",
   "metadata": {},
   "source": [
    "#### Superordinate"
   ]
  },
  {
   "cell_type": "code",
   "execution_count": 26,
   "metadata": {},
   "outputs": [],
   "source": [
    "mask = df_4['group'].isin([10, 12, 17, 19])\n",
    "movies = counts[np.array(mask), :]\n",
    "movies = counts_by_class(movies, df_4[mask], 'sex',\n",
    "                         one_vs_one=True, vals=['M', 'F'])\n",
    "log_odds = log_odds_ratio(movies, vocab, use_variance=True)"
   ]
  },
  {
   "cell_type": "code",
   "execution_count": 27,
   "metadata": {},
   "outputs": [
    {
     "name": "stdout",
     "output_type": "stream",
     "text": [
      "star | star wars | wars | matrix | fight | park | fight club | man | dark knight | knight | pulp | godfather | trek | star trek | rings\n",
      "\n",
      "love | girl | harry | potter | pride | prejudice | harry potter | pride prejudice | bones | girls | anatomy | jane | hunger games | grey 's | 's anatomy\n"
     ]
    }
   ],
   "source": [
    "print_terms(log_odds, 15)"
   ]
  },
  {
   "cell_type": "code",
   "execution_count": 28,
   "metadata": {},
   "outputs": [
    {
     "data": {
      "image/png": "[encoded data removed]",
      "text/plain": [
       "<matplotlib.figure.Figure at 0x19bec2cc0>"
      ]
     },
     "metadata": {},
     "output_type": "display_data"
    }
   ],
   "source": [
    "demog = 'drugs'\n",
    "subset = subset_df(df_4, demog, ['yes', 'no', 'unknown'])\n",
    "grouped = group_pct(subset, demog)\n",
    "lollipop_paper(grouped, demog, colors=['Black', 'LightGray', 'Red'], topic_labels=labels)"
   ]
  },
  {
   "cell_type": "markdown",
   "metadata": {},
   "source": [
    "## Predictions"
   ]
  },
  {
   "cell_type": "code",
   "execution_count": 29,
   "metadata": {
    "collapsed": true
   },
   "outputs": [],
   "source": [
    "def drug_labels(df):\n",
    "    labels = []\n",
    "    for i in df.index:\n",
    "        if df.drugs[i] in ('no', 'unknown'):\n",
    "            labels.append(0)\n",
    "        elif df.drugs[i] == 'yes':\n",
    "            labels.append(1)\n",
    "    return labels"
   ]
  },
  {
   "cell_type": "markdown",
   "metadata": {},
   "source": [
    "### Essay 4"
   ]
  },
  {
   "cell_type": "code",
   "execution_count": 30,
   "metadata": {
    "collapsed": true
   },
   "outputs": [],
   "source": [
    "# numerical drug usage labels\n",
    "df_4['labels'] = drug_labels(df_4)\n",
    "\n",
    "# split on drug usage status\n",
    "drugs_yes = subset_df(df_4, 'drugs', ['yes'])\n",
    "drugs_no = subset_df(df_4, 'drugs', ['no'])\n",
    "drugs_unknown = subset_df(df_4, 'drugs', ['unknown'])\n",
    "\n",
    "# balanced sample of known drug users\n",
    "drugs_known_sample = pd.concat([drugs_no.sample(drugs_yes.shape[0],\n",
    "                                                random_state=42),\n",
    "                                drugs_yes],\n",
    "                               ignore_index=True)"
   ]
  },
  {
   "cell_type": "code",
   "execution_count": 31,
   "metadata": {
    "collapsed": true
   },
   "outputs": [],
   "source": [
    "pred_4 = {'vocabulary' : vocab}\n",
    "_, known, _ = feature_vectors(drugs_known_sample.essay4, pred_4)\n",
    "_, unknown, _ = feature_vectors(drugs_unknown.essay4, pred_4)"
   ]
  },
  {
   "cell_type": "code",
   "execution_count": 32,
   "metadata": {
    "collapsed": true
   },
   "outputs": [],
   "source": [
    "known_train, known_test, y_train, y_test = train_test_split(known,\n",
    "                                                            drugs_known_sample['labels'],\n",
    "                                                            test_size=0.2, random_state=42)"
   ]
  },
  {
   "cell_type": "code",
   "execution_count": 33,
   "metadata": {},
   "outputs": [
    {
     "data": {
      "text/plain": [
       "LogisticRegression(C=1.0, class_weight=None, dual=False, fit_intercept=True,\n",
       "          intercept_scaling=1, max_iter=100, multi_class='ovr', n_jobs=1,\n",
       "          penalty='l2', random_state=None, solver='liblinear', tol=0.0001,\n",
       "          verbose=0, warm_start=False)"
      ]
     },
     "execution_count": 33,
     "metadata": {},
     "output_type": "execute_result"
    }
   ],
   "source": [
    "model = LogisticRegression()\n",
    "model.fit(known_train, y_train)"
   ]
  },
  {
   "cell_type": "code",
   "execution_count": 34,
   "metadata": {},
   "outputs": [
    {
     "name": "stdout",
     "output_type": "stream",
     "text": [
      "0.680029154519\n"
     ]
    }
   ],
   "source": [
    "yhat = model.predict(known_test)\n",
    "print(accuracy_score(y_test, yhat))"
   ]
  },
  {
   "cell_type": "code",
   "execution_count": 35,
   "metadata": {},
   "outputs": [
    {
     "name": "stdout",
     "output_type": "stream",
     "text": [
      "0.552282893071\n"
     ]
    }
   ],
   "source": [
    "drugs_unknown['yhat'] = model.predict(unknown)\n",
    "print(drugs_unknown.yhat.sum() / drugs_unknown.shape[0])"
   ]
  },
  {
   "cell_type": "code",
   "execution_count": 36,
   "metadata": {},
   "outputs": [
    {
     "data": {
      "text/plain": [
       "group\n",
       "20    0.243902\n",
       "7     0.245370\n",
       "18    0.295720\n",
       "8     0.312500\n",
       "10    0.313008\n",
       "22    0.352159\n",
       "2     0.388422\n",
       "3     0.436252\n",
       "11    0.461153\n",
       "17    0.482759\n",
       "21    0.500000\n",
       "24    0.501618\n",
       "14    0.506849\n",
       "4     0.517361\n",
       "13    0.577193\n",
       "23    0.585821\n",
       "0     0.593537\n",
       "6     0.598165\n",
       "5     0.621931\n",
       "9     0.626126\n",
       "1     0.631418\n",
       "15    0.649616\n",
       "12    0.660633\n",
       "19    0.661376\n",
       "16    0.840190\n",
       "Name: yhat, dtype: float64"
      ]
     },
     "execution_count": 36,
     "metadata": {},
     "output_type": "execute_result"
    }
   ],
   "source": [
    "drugs_unknown.groupby('group')['yhat'].mean().sort_values()"
   ]
  },
  {
   "cell_type": "markdown",
   "metadata": {},
   "source": [
    "### All Essays"
   ]
  },
  {
   "cell_type": "markdown",
   "metadata": {},
   "source": [
    "\"Tell me something I don't know. Can I predict drug usage status based on text alone? How well? Then, find the terms that are most indicative of drug usage."
   ]
  },
  {
   "cell_type": "code",
   "execution_count": 37,
   "metadata": {
    "collapsed": true
   },
   "outputs": [],
   "source": [
    "essay_list = ['essay' + str(i) for i in range(10)]\n",
    "df_0, df_1, df_2, df_3, df_4, df_5, df_6, df_7, df_8, df_9 = clean_up(df,\n",
    "                                                                      essay_list,\n",
    "                                                                      min_words=0)"
   ]
  },
  {
   "cell_type": "code",
   "execution_count": 38,
   "metadata": {
    "scrolled": false
   },
   "outputs": [],
   "source": [
    "# combine all essays\n",
    "essays = df_0.essay0.str.cat([df_1.essay1, df_2.essay2, df_3.essay3,\n",
    "                              df_4.essay4, df_5.essay5, df_6.essay6,\n",
    "                              df_7.essay7, df_8.essay8, df_9.essay9], sep=' ')\n",
    "df_0['essays'] = essays\n",
    "\n",
    "df_0 = recategorize(df_0)"
   ]
  },
  {
   "cell_type": "code",
   "execution_count": 39,
   "metadata": {},
   "outputs": [
    {
     "data": {
      "text/plain": [
       "((57490, 34), (59946, 32))"
      ]
     },
     "execution_count": 39,
     "metadata": {},
     "output_type": "execute_result"
    }
   ],
   "source": [
    "# only keep observations with more than five tokens\n",
    "all_essays = df_0[df_0.essays.str.split().str.len() > 5]\n",
    "all_essays.shape, df.shape"
   ]
  },
  {
   "cell_type": "code",
   "execution_count": 40,
   "metadata": {},
   "outputs": [],
   "source": [
    "# numerical drug usage labels\n",
    "all_essays['labels'] = drug_labels(all_essays)\n",
    "\n",
    "# split on drug usage status\n",
    "drugs_yes = subset_df(all_essays, 'drugs', ['yes'])\n",
    "drugs_no = subset_df(all_essays, 'drugs', ['no'])\n",
    "drugs_unknown = subset_df(all_essays, 'drugs', ['unknown'])\n",
    "\n",
    "# balanced sample of known drug users\n",
    "drugs_known_sample = pd.concat([drugs_no.sample(drugs_yes.shape[0],\n",
    "                                                random_state=42),\n",
    "                                drugs_yes],\n",
    "                               ignore_index=True)"
   ]
  },
  {
   "cell_type": "code",
   "execution_count": 41,
   "metadata": {},
   "outputs": [
    {
     "name": "stdout",
     "output_type": "stream",
     "text": [
      "6835\n"
     ]
    }
   ],
   "source": [
    "# vocabulary for all essays\n",
    "_, _, all_vocab = feature_vectors(all_essays.essays, specs)\n",
    "print(len(all_vocab))"
   ]
  },
  {
   "cell_type": "code",
   "execution_count": 42,
   "metadata": {
    "collapsed": true
   },
   "outputs": [],
   "source": [
    "pred_all = {'vocabulary' : all_vocab}\n",
    "_, known, _ = feature_vectors(drugs_known_sample.essays, pred_all)\n",
    "_, unknown, _ = feature_vectors(drugs_unknown.essays, pred_all)"
   ]
  },
  {
   "cell_type": "code",
   "execution_count": 43,
   "metadata": {},
   "outputs": [],
   "source": [
    "known_train, known_test, y_train, y_test = train_test_split(known,\n",
    "                                                            drugs_known_sample['labels'],\n",
    "                                                            test_size=0.2, random_state=42)"
   ]
  },
  {
   "cell_type": "code",
   "execution_count": 44,
   "metadata": {},
   "outputs": [
    {
     "data": {
      "text/plain": [
       "LogisticRegression(C=1.0, class_weight=None, dual=False, fit_intercept=True,\n",
       "          intercept_scaling=1, max_iter=100, multi_class='ovr', n_jobs=1,\n",
       "          penalty='l2', random_state=None, solver='liblinear', tol=0.0001,\n",
       "          verbose=0, warm_start=False)"
      ]
     },
     "execution_count": 44,
     "metadata": {},
     "output_type": "execute_result"
    }
   ],
   "source": [
    "model = LogisticRegression()\n",
    "model.fit(known_train, y_train)"
   ]
  },
  {
   "cell_type": "code",
   "execution_count": 45,
   "metadata": {},
   "outputs": [
    {
     "name": "stdout",
     "output_type": "stream",
     "text": [
      "0.727417302799\n"
     ]
    }
   ],
   "source": [
    "yhat = model.predict(known_test)\n",
    "print(accuracy_score(y_test, yhat))"
   ]
  },
  {
   "cell_type": "code",
   "execution_count": 46,
   "metadata": {},
   "outputs": [],
   "source": [
    "drugs_unknown['yhat'] = model.predict(unknown)"
   ]
  },
  {
   "cell_type": "code",
   "execution_count": 47,
   "metadata": {},
   "outputs": [
    {
     "name": "stdout",
     "output_type": "stream",
     "text": [
      "0.524143472861\n"
     ]
    }
   ],
   "source": [
    "print(drugs_unknown.yhat.sum() / drugs_unknown.shape[0])"
   ]
  },
  {
   "cell_type": "markdown",
   "metadata": {},
   "source": [
    "#### Most Predictive Terms"
   ]
  },
  {
   "cell_type": "code",
   "execution_count": 48,
   "metadata": {},
   "outputs": [],
   "source": [
    "token_dict = {coeff : i for i, coeff in enumerate(model.coef_[0])}"
   ]
  },
  {
   "cell_type": "code",
   "execution_count": 49,
   "metadata": {
    "collapsed": true
   },
   "outputs": [],
   "source": [
    "coefficients = model.coef_[0]\n",
    "coefficients.sort()"
   ]
  },
  {
   "cell_type": "code",
   "execution_count": 50,
   "metadata": {},
   "outputs": [],
   "source": [
    "import numpy as np"
   ]
  },
  {
   "cell_type": "code",
   "execution_count": 51,
   "metadata": {},
   "outputs": [
    {
     "name": "stdout",
     "output_type": "stream",
     "text": [
      "sex (68.96), shit (45.51), music (20.95), weed (18.46), party (15.54), beer (14.18), dubstep (13.86), fuck (12.28), drinking (11.48), smoking (11.39), partying (10.59), chill (9.45), hair (8.84), park (8.09), fucking (7.93), dj (7.9), burning (7.78), electronic (7.05), drunk (6.67), ass (6.36), reggae (6.18), robbins (5.81), dude (5.74), smoke (5.68), cat (5.5), "
     ]
    }
   ],
   "source": [
    "for i in range(1, 26):\n",
    "    print(all_vocab[token_dict[coefficients[-i]]] + ' (' + \n",
    "          str(np.round(np.exp(coefficients[-i]), 2)) + ')', end=', ')"
   ]
  },
  {
   "cell_type": "code",
   "execution_count": null,
   "metadata": {
    "collapsed": true
   },
   "outputs": [],
   "source": []
  }
 ],
 "metadata": {
  "kernelspec": {
   "display_name": "Python 3",
   "language": "python",
   "name": "python3"
  },
  "language_info": {
   "codemirror_mode": {
    "name": "ipython",
    "version": 3
   },
   "file_extension": ".py",
   "mimetype": "text/x-python",
   "name": "python",
   "nbconvert_exporter": "python",
   "pygments_lexer": "ipython3",
   "version": "3.6.5"
  }
 },
 "nbformat": 4,
 "nbformat_minor": 1
}
