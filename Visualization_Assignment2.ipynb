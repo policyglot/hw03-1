{
 "cells": [
  {
   "cell_type": "markdown",
   "metadata": {},
   "source": [
    "# HW 3- Part 2\n",
    "## Design Your Own Visualization"
   ]
  },
  {
   "cell_type": "markdown",
   "metadata": {},
   "source": [
    "The first half of this assignment includes the code to generate the visualization with the data\n",
    "set of interest. The second half then assesses its efficacy in terms of five metrics:\n"
   ]
  },
  {
   "cell_type": "markdown",
   "metadata": {},
   "source": [
    "### Section 1: Generating the Visualization  "
   ]
  },
  {
   "cell_type": "markdown",
   "metadata": {},
   "source": [
    "The code used here draws on two major sources:\n",
    "Juan Shishido: \n",
    "https://github.com/juanshishido/okcupid\n",
    "University of Michigan Computational Social Science:\n",
    "https://github.com/UM-CSS/CSSLabs-NLP"
   ]
  },
  {
   "cell_type": "code",
   "execution_count": 14,
   "metadata": {},
   "outputs": [],
   "source": [
    "import numpy as np\n",
    "import pandas as pd\n",
    "import matplotlib as mpl\n",
    "import matplotlib.pyplot as plt\n",
    "import seaborn as sns\n",
    "import warnings\n",
    "warnings.filterwarnings('ignore')\n",
    "from tqdm import tqdm\n",
    "tqdm.pandas()\n",
    "from bs4 import BeautifulSoup"
   ]
  },
  {
   "cell_type": "code",
   "execution_count": 3,
   "metadata": {},
   "outputs": [],
   "source": [
    "from utils.nonnegative_matrix_factorization import nmf_labels, nmf_inspect\n",
    "from utils.splits import subset_df, group_pct\n",
    "from utils.text_representation import feature_vectors\n",
    "from utils.lexical_features import *\n",
    "%matplotlib inline"
   ]
  },
  {
   "cell_type": "code",
   "execution_count": 5,
   "metadata": {},
   "outputs": [],
   "source": [
    "#Data Initialization\n",
    "df = pd.read_csv('data/profiles.csv')\n",
    "must_haves = ['body_type', 'height', 'education', 'ethnicity', 'sex', 'essay0']\n",
    "df = df.dropna(subset= must_haves)\n",
    "df= df[df['sex']==\"m\"]"
   ]
  },
  {
   "cell_type": "code",
   "execution_count": 8,
   "metadata": {},
   "outputs": [],
   "source": [
    "def recode(text, dictionary, default=np.nan):\n",
    "    '''Function for recoding categories in a column based on exact matches'''\n",
    "    out = default\n",
    "    text = str(text)\n",
    "    \n",
    "    for x in dictionary.keys():\n",
    "        for y in dictionary[x]:\n",
    "            if y == text: #exact match\n",
    "                out = x\n",
    "                return out\n",
    "    return out"
   ]
  },
  {
   "cell_type": "code",
   "execution_count": 9,
   "metadata": {},
   "outputs": [],
   "source": [
    "ed_levels = {'High School or less': ['dropped out of high school', 'working on high school','graduated from high school', 'working on college/university', \n",
    "                    'two-year college', 'dropped out of college/university', \n",
    "                    'high school'], \n",
    "             'More than High School': ['graduated from college/university', \n",
    "                    'working on masters program', 'working on ph.d program', \n",
    "                    'college/university', 'working on law school', \n",
    "                    'dropped out of masters program', \n",
    "                    'dropped out of ph.d program', 'dropped out of law school', \n",
    "                    'dropped out of med school',\n",
    "                    'graduated from masters program',\n",
    "                    'graduated from ph.d program',                           \n",
    "                    'graduated from law school', \n",
    "                    'graduated from med school', 'masters program', \n",
    "                    'ph.d program', 'law school', 'med school']}"
   ]
  },
  {
   "cell_type": "code",
   "execution_count": 10,
   "metadata": {},
   "outputs": [],
   "source": [
    "df['edu'] = df.education.apply(recode, dictionary=ed_levels, \n",
    "                                            default='unknown')"
   ]
  },
  {
   "cell_type": "code",
   "execution_count": 23,
   "metadata": {},
   "outputs": [],
   "source": [
    "# Some of the essays have just a link in the text. BeautifulSoup sees that and gets \n",
    "# the wrong idea. This line hides those warnings.\n",
    "warnings.filterwarnings(\"ignore\", category=UserWarning, module='bs4')\n",
    "def clean(text):\n",
    "    if pd.isnull(text):\n",
    "        t = np.nan\n",
    "    else:\n",
    "        t = BeautifulSoup(text, 'lxml').get_text()\n",
    "        t = t.lower()\n",
    "        t = t.replace('\\n','')\n",
    "\n",
    "        bad_words = ['http', 'www', '\\nnan']\n",
    "\n",
    "        for b in bad_words:\n",
    "            t = t.replace(b, '')\n",
    "    if t == '':\n",
    "        t = np.nan\n",
    "    \n",
    "    return t"
   ]
  },
  {
   "cell_type": "code",
   "execution_count": 30,
   "metadata": {},
   "outputs": [],
   "source": [
    "#Clearing out all HTML and unnecessary characters\n",
    "df['essay0'] =df['essay0'].apply(clean)"
   ]
  },
  {
   "cell_type": "code",
   "execution_count": 33,
   "metadata": {},
   "outputs": [],
   "source": [
    "#The major part of the algorithm- can take some time\n",
    "specs = {'stop_words' : 'english', 'ngram_range' : (1, 3), 'min_df' : 0.005}\n",
    "counts, tfidf, vocab = feature_vectors(df.essay0, specs)"
   ]
  },
  {
   "cell_type": "code",
   "execution_count": 40,
   "metadata": {},
   "outputs": [
    {
     "name": "stdout",
     "output_type": "stream",
     "text": [
      "25\n",
      "Group 0:\n",
      "know | want | want know | ask | 'll | person | message | n't know | say | talk | know just | nt | feel | people | tell | know 'm | getting know | profile | thing | getting | really | come | :) | way | shy | just ask | write | need | free | n't want | better | right | let know | make | feel free | send | friends | let | u | just want | woman | open | know people | like know | questions | hit | want meet | relationship | learn | wanna\n",
      "\n",
      "Group 1:\n",
      "years | moved | sf | ago | coast | school | east | 've | city | years ago | grew | lived | year | east coast | went | moved sf | college | california | living | originally | recently | west | spent | nyc | job | months | 2 | la | recently moved | 3 | 5 | 've lived | grad | york | south | new york | 4 | west coast | got | went school | couple | boston | came | worked | year ago | 5 years | old | just moved | 2 years | grad school\n",
      "\n",
      "Group 2:\n",
      "'m | pretty | 'm pretty | guy | 've | 'm really | really | 'm looking | think 'm | nerd | say 'm | laid | bit | shy | 'm just | 'm working | think | usually | 'm trying | kind | person | hi 'm | 'm going | sure | 'll | 'm open | geek | big | 'd | 'm kind | 'm bit | student | life 'm | 'm big | 'm laid | nice | guy 'm | 'm good | probably | 'm usually | 'm passionate | happy | 'm happy | 'm currently | awesome | ... 'm | type | people 'm | 'm originally | tend\n",
      "\n",
      "Group 3:\n",
      "... | .... | ... 'm | ... i'm | ... love | i'm | ... like | ... 's | ... just | self | maybe | come | oh | ..... | say | 'll | guess | summary | yes | bit | profile | man | need | yeah | think | said | really | words | later | sure | ok | awesome | dating | hate | write | right | nt | open | creative | look | wait | online | old | non | soon | lol | self summary | kinda | lets | :)\n",
      "\n",
      "Group 4:\n",
      "looking | 'm looking | meet | looking meet | relationship | woman | guy looking | share | open | girl | partner | just looking | man | guy | nice | minded | single | date | special | forward | friends | open minded | looking forward | friend | term | hang | looking new | right | intelligent | new friends | guys | dating | women | interested | smart | long term | honest | 're | long | maybe | interests | wants | lady | confident | hi | earth | old | explore | sex | great\n",
      "\n",
      "Group 5:\n",
      "san | francisco | san francisco | moved san | moved san francisco | moved | city | living san | living san francisco | just moved san | living | just moved | diego | san diego | grew | recently | live | native | lived | recently moved | raised san | year | university | originally | art | explore | working | los | currently | hi | seattle | exploring | angeles | home | los angeles | chicago | years | moving | offer | college | company | york | dream | 've lived | state | new | new york | work | transplant | south\n",
      "\n",
      "Group 6:\n",
      "new | people | new people | meet | meet new | meeting | meet new people | meeting new | meeting new people | new friends | places | looking meet | friends | new places | city | new york | york | trying new | trying | meet people | new things | experiences | exploring | new experiences | interesting | 'm new | explore | make new | like meet | open | love meet | interesting people | person | exploring new | try new | interested | meeting people | looking new | people 'm | site | learning | try | online | traveling | dating | learn | tomeet | restaurants | learning new | new restaurants\n",
      "\n",
      "Group 7:\n",
      "m | nt | guy | s | chill | u | lol | pretty | person | nice | laid | say | really | old | hi | alot | shy | .... | years old | kinda | lets | n | real | cool | type | hey | hit | wanna | outgoing | sports | ..... | haha | funny | friends | single | school | cause | laid guy | sure | d | currently | message | got | nice guy | times | college | student | hang | :) | earth\n",
      "\n",
      "Group 8:\n",
      "like | people | think | 'd like | 'd | feel like | really like | really | feel | like think | stuff | n't like | like people | like going | read | lot | things like | like meet | watch | play | games | make | people like | movies | like make | like travel | like laugh | cook | laugh | hang | kind | like fun | going | like good | like 'm | eat | just like | look | drink | talk | little | bike | ... like | nice | makes | dance | stay | cool | ilike | walk\n",
      "\n",
      "Group 9:\n",
      "love | travel | laugh | love travel | outdoors | love laugh | love outdoors | cook | sports | food | love life | love cook | world | love going | especially | great | make | family | love music | life love | love good | love sports | heart | love meet | people love | 'd love | really love | love people | nature | ilove | big | eat | love traveling | love city | people laugh | animals | city | making | job | play | favorite | ... love | people | day | dance | things love | hiking | hike | adventure | outgoing\n",
      "\n",
      "Group 10:\n",
      "going | easy | easy going | 'm easy | going guy | 'm easy going | easy going guy | guy | pretty easy | laid | pretty | person | open | earth | open minded | minded | love going | like going | 'm going | funny | friendly | 'm pretty | likes | simple | loves | try | laugh | enjoy going | honest | drama | enjoys | trying | let | adventurous | athletic | little | offer | talk | adventures | relaxed | 'm laid | concerts | say | listener | beach | gym | home | kind | laid guy | spontaneous\n",
      "\n",
      "Group 11:\n",
      "bay | area | bay area | moved bay | moved bay area | native | area native | bay area native | lived | grew | moved | east bay | living | transplant | recently | east | new | offer | inthe | college | year | exploring | recently moved | la | places | live | berkeley | originally | place | home | recent | thebay | 've lived | explore | hiking | oakland | weather | currently | working | moving | company | came | spent | great | years | went | 've | enjoying | grad | north\n",
      "\n",
      "Group 12:\n",
      "life | live | world | live life | living | believe | share | best | make | enjoying | fullest | things life | enjoy life | family | way | important | day | happy | person | positive | passionate | experiences | enjoying life | short | man | life 's | partner | love life | simple | living life | life 'm | people | experience | feel | better | life short | moment | try | great | life love | heart | woman | adventure | passion | want | career | self | special | life like | 've\n",
      "\n",
      "Group 13:\n",
      "'s | let | 've | let 's | think | 're | way | 'll | got | self | best | 's just | right | -- | 'd | people | world | little | great | say | really | thing | better | day | profile | pretty | bit | long | life 's | make | man | think 's | lot | people 's | kind | probably | summary | far | maybe | read | tell | 's really | said | 's good | guess | friend | actually | come | true | heart\n",
      "\n",
      "Group 14:\n",
      "just | just moved | 'm just | ask | just ask | moved | trying | just looking | just like | guy | really | just got | 's just | know just | just moved san | say | chill | got | hang | wanna | just want | site | ... just | checking | city | maybe | :) | hey | cool | hi | start | questions | average | moved san | going | started | just n't | dude | moved san francisco | regular | graduated | thought | movie | message | far | hit | oakland | finished | normal | 're\n",
      "\n",
      "Group 15:\n",
      "things | new things | try | new | trying | try new | trying new | try new things | trying new things | learning | doing | open | things life | lot | things like | make | learning new | learn | minded | simple | different | things 'm | places | open minded | little | pretty | doing things | simple things | things love | tend | willing | world | learn new | stuff | important | really | making | 'm trying | generally | mind | passionate | curious | favorite | list | exploring | person | random | appreciate | new places | best\n",
      "\n",
      "Group 16:\n",
      "good | sense | humor | sense humor | good sense | food | good food | great | good sense humor | good time | conversation | person | people | laugh | pretty | 'm good | good conversation | kind | great sense | honest | sarcastic | listener | company | good friends | friend | dry | enjoy good | times | great sense humor | like good | good listener | pretty good | wine | love good | funny | loyal | smart | bad | really good | earth | bit | intelligent | having good | nice | important | beer | think | appreciate | better | ofhumor\n",
      "\n"
     ]
    },
    {
     "name": "stdout",
     "output_type": "stream",
     "text": [
      "Group 17:\n",
      "n't | ca | ca n't | does | does n't | really | think | people | wo | wo n't | say | did | n't like | 're | n't know | did n't | make | mean | n't really | way | probably | need | believe | 'll | n't think | care | right | mind | 've | profile | tell | seriously | feel | lot | long | little | n't want | hate | -- | thing | got | women | n't mind | n't care | said | self | stand | actually | n't mean | look\n",
      "\n",
      "Group 18:\n",
      ".. | .... | lol | :) | self | ..... | i'm | u | summary | n | self summary | talk | lets | single | hey | man | old | years | ready | site | wanna | ask | nt | talking | kinda | haha | happy | party | mind | special | far | box | got | d | thing | ok | different | father | start | lived | water | s | funny | hit | guess | originally | weird | kids | think | right\n",
      "\n",
      "Group 19:\n",
      "born | raised | born raised | raised san | california | college | sf | went | school | family | oakland | bay | san | cal | lived | graduated | berkeley | currently | came | ca | sports | south | city | american | boston | sanfrancisco | went school | hawaii | northern | studied | boy | years | degree | heart | midwest | iwas | working | educated | chinese | southern | states | bayarea | uc | half | texas | state | home | went college | did | big\n",
      "\n",
      "Group 20:\n",
      "fun | guy | loving | fun loving | 'm fun | having fun | likes | funny | having | outgoing | loves | nice | smart | adventurous | person | like fun | earth | caring | laid | honest | kind | guy looking | loyal | intelligent | laugh | nice guy | hang | girl | friendly | spontaneous | chill | passionate | enjoys | creative | 's fun | cool | kind guy | romantic | type | energetic | witty | ambitious | friends | athletic | best | laid guy | active | driven | hard working | minded\n",
      "\n",
      "Group 21:\n",
      "time | spend | spend time | free | lot | good time | free time | spending | lot time | spending time | spend lot | working | time time | spend lot time | job | time 'm | time friends | spent | long | time like | having | friends | long time | spare time | day | spare | student | world | time love | days | school | busy | great | 've | taking | year | try | pretty | doing | make | quite | thinking | college | family | right | going | having good | feel | possible | currently\n",
      "\n",
      "Group 22:\n",
      "enjoy | friends | hiking | watching | playing | movies | outdoors | sports | traveling | family | camping | cooking | reading | hanging | active | games | biking | running | activities | going | really enjoy | beach | snowboarding | really | enjoy life | home | great | spending | wine | movie | friends family | exploring | outdoor | skiing | dancing | enjoy going | watching movies | travel | doing | eating | climbing | working | day | tennis | places | hanging friends | staying | tv | swimming | trips\n",
      "\n",
      "Group 23:\n",
      "work | hard | play | work hard | working | hard play | play hard | hard working | progress | lot | school | week | day | live | try | company | job | tech | travel | balance | friends | busy | sleep | gym | eat | industry | outside | weekends | run | 'm working | important | make | career | home | hours | startup | days | drink | party | 's hard | need | professional | ambitious | engineer | cook | business | went | ride | family | active\n",
      "\n",
      "Group 24:\n",
      "music | art | live | movies | play | live music | food | love music | listening | playing | guitar | creative | listen | rock | shows | books | film | games | lover | dancing | reading | listening music | design | dance | arts | making | photography | nature | video | artist | passion | interests | old | write | open | culture | cooking | science | jazz | hip | stuff | geek | musician | politics | bands | hop | history | bass | fan | piano\n",
      "\n",
      "\n"
     ]
    }
   ],
   "source": [
    "K = 25\n",
    "nmf_inspect(tfidf, vocab, k_vals=[K], n_words=50)"
   ]
  },
  {
   "cell_type": "code",
   "execution_count": 42,
   "metadata": {},
   "outputs": [
    {
     "name": "stdout",
     "output_type": "stream",
     "text": [
      "25\n"
     ]
    }
   ],
   "source": [
    "#These labels are based on the categories as assessed by Juan Shishido\n",
    "labels = ['Contact Me!', 'Moved Cities', 'About Me', 'Writing Profile', 'Seeking', \n",
    "          'Relocation', 'Meet People','Casual', 'Likes', 'Hobbies', 'Easy- Going',\n",
    "          'Bay Area', 'Carpe Diem', '14', 'Settling In', 'Novelty', 'Fun Company',\n",
    "          'Nots', 'My Story', 'Before Here','My Qualities', 'My Free Time', \n",
    "          'My Hobbies','Career-Focus','Creativity']"
   ]
  },
  {
   "cell_type": "code",
   "execution_count": 43,
   "metadata": {},
   "outputs": [],
   "source": [
    "df['group'] = nmf_labels(tfidf, k=K)"
   ]
  },
  {
   "cell_type": "code",
   "execution_count": 57,
   "metadata": {},
   "outputs": [],
   "source": [
    "def lollipop_chart(df, demographic, colors=['LightGray', 'Black'], topic_labels=None):\n",
    "    \"\"\"Create the lollipop plots for the percentage of users in each NMF group\n",
    "\n",
    "    Parameters\n",
    "    ----------\n",
    "    df : pd.DataFrame\n",
    "        Should be created using `group_pct()` in `utils/splits.py`\n",
    "    demographic : str\n",
    "        Valid column name\n",
    "    colors : list\n",
    "        Valid Matplotlib colors codes or names (e.g., hex)\n",
    "    topic_labels : list, default None\n",
    "        x-axis labels\n",
    "\n",
    "    Returns\n",
    "    -------\n",
    "    None\n",
    "    \"\"\"\n",
    "    # plot\n",
    "    fig, ax = plt.subplots(figsize=(12, 8))\n",
    "    # lines\n",
    "    lineval = df.groupby('group')['pct'].max()\n",
    "    for i, g in enumerate(lineval):\n",
    "        plt.plot([i, i], [0, g], linewidth=1,\n",
    "                 color='Gray', zorder=1, alpha=0.5)\n",
    "    # markers\n",
    "    for i, d in enumerate(df[demographic].unique()):\n",
    "        tdf = df[df[demographic]==d]\n",
    "        plt.scatter(range(len(tdf)), tdf.pct,\n",
    "                    s=100, color=colors[i], edgecolor='None',\n",
    "                    lw=1, zorder=2, label=d.capitalize())\n",
    "    # plot options\n",
    "    plt.xlim(-0.5, len(tdf)-0.5)\n",
    "    plt.ylim(0)\n",
    "    plt.ylabel('Proportion of Users in Each Topic', fontsize=14)\n",
    "    plt.xlabel('Inferred Topic in Profile', fontsize=14)\n",
    "    plt.title('Differences in Choice of Topics On OkCupid Self-Introductions Across Men with Different Levels of Education', fontsize=20)\n",
    "    plt.legend(loc='lower left',title=\"Education Levels\", frameon=False)    \n",
    "    plt.gca().get_yaxis().set_major_formatter(\n",
    "        mpl.ticker.FuncFormatter(lambda y, p: format(y, '.0%')))\n",
    "    plt.tick_params(top='off', bottom='off', left='off', right='off')\n",
    "    ax.spines['top'].set_visible(False)\n",
    "    ax.spines['bottom'].set_color('DimGray')\n",
    "    ax.spines['left'].set_color('DimGray')\n",
    "    ax.spines['right'].set_visible(False)\n",
    "    ax.legend(loc='lower right', bbox_to_anchor=(1.3, 1),\n",
    "          ncol=1, fancybox=True, shadow=True)\n",
    "\n",
    "    if topic_labels:\n",
    "        plt.xticks(range(len(topic_labels)), topic_labels, rotation='vertical')"
   ]
  },
  {
   "cell_type": "code",
   "execution_count": 58,
   "metadata": {},
   "outputs": [],
   "source": [
    "demog = 'edu'\n",
    "subset = subset_df(df, demog, ['High School or less', 'More than High School'])\n",
    "grouped = group_pct(subset, demog)"
   ]
  },
  {
   "cell_type": "code",
   "execution_count": 59,
   "metadata": {},
   "outputs": [
    {
     "data": {
      "image/png": "[encoded data removed]",
      "text/plain": [
       "<Figure size 864x576 with 1 Axes>"
      ]
     },
     "metadata": {},
     "output_type": "display_data"
    }
   ],
   "source": [
    "lollipop_chart(grouped, demog, colors=['Purple', 'Cyan'],topic_labels=labels)"
   ]
  },
  {
   "cell_type": "markdown",
   "metadata": {},
   "source": [
    "### Section 2: Explaining the Visualization Choices"
   ]
  },
  {
   "cell_type": "markdown",
   "metadata": {},
   "source": [
    "### Data and Objectives\n",
    "The key overarching hypothesis to my research is that individuals present themselves differently across different situations and platforms depending on what they perceive to be desirable in that setting and their strategic goals from the social interaction. In the context of online dating, I am exploring whether men aim to increase their chances of finding a romantic partner specifically by ‘overcoming’ their perceived limitations in physical dimensions (such as height, weight and race) as well as education. \n",
    "\n",
    "If this trend were to be true for any of these variables, we would find a difference in the sub-categories thereof across the self-representations on these men’s profiles. Given the limitations of the available data (see ‘Initial Results’ PDF for more details), we focus on the ‘About Me’ self-introduction and apply topic modelling to assess for strategic choices of language and branding for self-representation.\n",
    "\n",
    "In this particular visualization, our variable of choice is that of education. I have used the completion of a high school diploma as a cut off point for ‘low’ or ‘high’ education. This is based on earning prospects observed above and below the threshold by the US Bureau of Labour Statistics (Torpey, 2018). Subsequent research can build more categories separately for undergraduate and post-graduate studies.\n",
    "\n",
    "If this trend were to be true for any of these variables, we would find a difference in the sub-categories thereof across the self-representations on these men’s profiles. Given the limitations of the available data (see ‘Initial Results’ PDF for more details), we focus on the ‘About Me’ self-introduction and apply topic modelling to assess for strategic choices of language and branding for self-representation.\n",
    "\n",
    "In this particular visualization, our variable of choice is that of education. I have used the completion of a high school diploma as a cut off point for ‘low’ or ‘high’ education. This is based on earning prospects observed above and below the threshold by the US Bureau of Labour Statistics (Torpey, 2018). Subsequent research can build more categories separately for undergraduate and post-graduate studies. \n"
   ]
  },
  {
   "cell_type": "markdown",
   "metadata": {},
   "source": [
    "### Graphical Form\n",
    "We have three variables at play- \n",
    "#### Qualitative/ Categorical:\n",
    "•\tThe topics derived from the model (and labelled by the human user)\n",
    "•\tThe sub-categories of the variable of interest. Here, we have ‘High School or Less’ versus ‘More than High Score’) \n",
    "#### Quantitative:\n",
    "•\tThe proportion of users whose self-introductions include the given topic. \n",
    "Given these characteristics, some natural candidates for the form of the visualization would include grouped bar charts. However, with 25 topics, this would lead to 50 separate bars (one pair for each of the topics), which would render the graph cramped and unreadable. \n",
    "Instead, we could use some kind of stacking of the two categories on top of each other, so as to conserve space and maintain the aesthetic of the visualization. The challenge is that this could potentially affect the functionality and truthfulness of the graph. The result would resemble a stacked bar chart- giving the false impression that we are dividing one topic among the two categories. The intension is to highlight differences in the proportions, which may be lost with that particular format. \n",
    "\n",
    "Given these constraints, the best alternative appeared to be the lollipop chart."
   ]
  },
  {
   "cell_type": "markdown",
   "metadata": {},
   "source": [
    "### Color\n",
    "As such, any colours could have been used. I chose cyan and purple as they add to the aesthetic appeal of the visualization, without confusing the meaning. \n",
    "It may have been possible to use different colours for the entire lollipop on each category. However, this would have created clutter. So I only applied the colour change at the ‘head’ of each lollipop. The ‘stick’ line was kept a light shade, so as to keep the overall structure clear, but not district from the more important encoding of colour. "
   ]
  },
  {
   "cell_type": "markdown",
   "metadata": {},
   "source": [
    "### Scale\n",
    "We are now seeking to assess differences in qualitative proportions. Since there are 25 different topics, the percentage of users for any one topic is low. In the data, this never exceeds 18%. Thus, if we were to use the whole range of percentage values, the results would be squashed into the bottom corner. Therefore, we focus only on the first 0 to 20% range so that the finer differences can be more easily discerned. This does not affect the truthfulness of the visualization (our goal was never to highlight the dominance of one topic over another). At the same time, it maintains the insight, aesthetics and functionality. "
   ]
  },
  {
   "cell_type": "markdown",
   "metadata": {},
   "source": [
    "### Spatial Positioning\n",
    "The topics could have been spaced on the y axis. However, I felt that one category scored 'more' than the other is better communicated by its marker being on top of- rather than to the right of- the other category's marker. Hence, the topics are placed on the x axis. "
   ]
  },
  {
   "cell_type": "markdown",
   "metadata": {},
   "source": [
    "### Story and Communications\n",
    "The key story- and intriguing insight is that for the most part, the topics that both educated and less educated use in their self-descriptions roughly similar. \n",
    "There do exist some notable differences. More users with limited education emphasize aspects of fun, living in the moment and casualness (relative to those with more than a High School Diploma). But surprisingly, the latter show a markedly higher use of the ‘enthusiasm’ and ‘meet and greet’ topics- suggesting more excitement and interest in meeting new people without representing themselves as exciting company.  \n",
    "Arranging the topics in this order, using clear colour distinctions and a lollilop chart all aim to emphasize these distinctions without a sense of visual overload. \n"
   ]
  },
  {
   "cell_type": "markdown",
   "metadata": {},
   "source": [
    "### REFERENCES\n",
    "Torpey, Elka, 2018. ‘Measuring the Value of Education’, US Bureau of Labour Statistics. Retrieved from:  https://www.bls.gov/careeroutlook/2018/data-on-display/education-pays.htm \n"
   ]
  }
 ],
 "metadata": {
  "kernelspec": {
   "display_name": "Python 3",
   "language": "python",
   "name": "python3"
  },
  "language_info": {
   "codemirror_mode": {
    "name": "ipython",
    "version": 3
   },
   "file_extension": ".py",
   "mimetype": "text/x-python",
   "name": "python",
   "nbconvert_exporter": "python",
   "pygments_lexer": "ipython3",
   "version": "3.6.5"
  }
 },
 "nbformat": 4,
 "nbformat_minor": 2
}
